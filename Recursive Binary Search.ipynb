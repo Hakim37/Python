{
 "cells": [
  {
   "cell_type": "code",
   "execution_count": 1,
   "id": "e117d436",
   "metadata": {},
   "outputs": [],
   "source": [
    "def rec_binarySearch(target,sequence,first,last):\n",
    "    if first> last:\n",
    "        return False\n",
    "    else:\n",
    "        mid =(last + first) // 2\n",
    "        \n",
    "        if sequence[mid] == target:\n",
    "            return True\n",
    "        elif target < sequence[mid]:\n",
    "            return rec_binarySearch(target,sequence,first,mid-1)\n",
    "        else:\n",
    "            return rec_binarySearch(target,sequence,mid + 1,last)"
   ]
  }
 ],
 "metadata": {
  "kernelspec": {
   "display_name": "Python 3",
   "language": "python",
   "name": "python3"
  },
  "language_info": {
   "codemirror_mode": {
    "name": "ipython",
    "version": 3
   },
   "file_extension": ".py",
   "mimetype": "text/x-python",
   "name": "python",
   "nbconvert_exporter": "python",
   "pygments_lexer": "ipython3",
   "version": "3.8.8"
  }
 },
 "nbformat": 4,
 "nbformat_minor": 5
}
