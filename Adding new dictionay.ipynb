{
 "cells": [
  {
   "cell_type": "markdown",
   "id": "79c87caf",
   "metadata": {},
   "source": [
    "### python code to demonstrate chainMap \n",
    "new_child()"
   ]
  },
  {
   "cell_type": "code",
   "execution_count": 1,
   "id": "7d50c6cf",
   "metadata": {},
   "outputs": [],
   "source": [
    "import collections "
   ]
  },
  {
   "cell_type": "code",
   "execution_count": null,
   "id": "5f5844e3",
   "metadata": {},
   "outputs": [],
   "source": [
    "# initializing dictionaries\n",
    "dic1 = {'a': 1,'b' : 2 }\n",
    "dic2 = {'b': 3,'c' : 4}\n",
    "dic3 = {'f': 5}\n",
    "\n",
    "# initializing dictionaries\n",
    "\n",
    "chain1 = chain.new_child(dic3)\n",
    "\n",
    "# printing \n"
   ]
  }
 ],
 "metadata": {
  "kernelspec": {
   "display_name": "Python 3",
   "language": "python",
   "name": "python3"
  },
  "language_info": {
   "codemirror_mode": {
    "name": "ipython",
    "version": 3
   },
   "file_extension": ".py",
   "mimetype": "text/x-python",
   "name": "python",
   "nbconvert_exporter": "python",
   "pygments_lexer": "ipython3",
   "version": "3.8.8"
  }
 },
 "nbformat": 4,
 "nbformat_minor": 5
}
