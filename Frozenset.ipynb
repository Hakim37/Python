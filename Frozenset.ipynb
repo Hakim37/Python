{
 "cells": [
  {
   "cell_type": "markdown",
   "id": "0cc7a3ed",
   "metadata": {},
   "source": [
    "### Frozenset"
   ]
  },
  {
   "cell_type": "markdown",
   "id": "363a7eef",
   "metadata": {},
   "source": [
    "Unordered collection data type that is iterable,mutable and has no duplicate elements.The frozenset() is an inbuit function in python that takes an iterable object as input and and makes them immutable."
   ]
  },
  {
   "cell_type": "markdown",
   "id": "627a85fc",
   "metadata": {},
   "source": [
    "It is as set except Its elements are immutable."
   ]
  },
  {
   "cell_type": "code",
   "execution_count": 1,
   "id": "792a6899",
   "metadata": {},
   "outputs": [
    {
     "name": "stdout",
     "output_type": "stream",
     "text": [
      "frozenset Object is : frozenset({1, 2, 3, 4, 5})\n"
     ]
    }
   ],
   "source": [
    "# tuple of numbers \n",
    "num = (1,2,3,4,5)\n",
    "# converting tuple to frozenset\n",
    "fnum = frozenset(num)\n",
    "\n",
    "# printing details\n",
    "print(\"frozenset Object is :\",fnum)"
   ]
  },
  {
   "cell_type": "code",
   "execution_count": null,
   "id": "3e2f0759",
   "metadata": {},
   "outputs": [],
   "source": []
  }
 ],
 "metadata": {
  "kernelspec": {
   "display_name": "Python 3",
   "language": "python",
   "name": "python3"
  },
  "language_info": {
   "codemirror_mode": {
    "name": "ipython",
    "version": 3
   },
   "file_extension": ".py",
   "mimetype": "text/x-python",
   "name": "python",
   "nbconvert_exporter": "python",
   "pygments_lexer": "ipython3",
   "version": "3.8.8"
  }
 },
 "nbformat": 4,
 "nbformat_minor": 5
}
