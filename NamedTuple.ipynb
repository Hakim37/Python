{
 "cells": [
  {
   "cell_type": "code",
   "execution_count": 1,
   "id": "b1fe3b9e",
   "metadata": {},
   "outputs": [],
   "source": [
    "# python code to demonstrate namedtuple()\n",
    "from collections import namedtuple"
   ]
  },
  {
   "cell_type": "code",
   "execution_count": 2,
   "id": "be0713f2",
   "metadata": {},
   "outputs": [],
   "source": [
    "# Declaring namedtuple()\n",
    "Student = namedtuple('Student',['name','age','DOB'])"
   ]
  },
  {
   "cell_type": "code",
   "execution_count": 3,
   "id": "dba24c8a",
   "metadata": {},
   "outputs": [],
   "source": [
    "# Adding Values\n",
    "\n",
    "S = Student('Nandini','19','2541997')"
   ]
  },
  {
   "cell_type": "code",
   "execution_count": 4,
   "id": "ba32d7c4",
   "metadata": {},
   "outputs": [
    {
     "name": "stdout",
     "output_type": "stream",
     "text": [
      "The Student age using index is :19\n"
     ]
    }
   ],
   "source": [
    "# Acess using index\n",
    "print(\"The Student age using index is :\",end =\"\")\n",
    "print(S[1])"
   ]
  },
  {
   "cell_type": "code",
   "execution_count": 5,
   "id": "3d0b4815",
   "metadata": {},
   "outputs": [
    {
     "name": "stdout",
     "output_type": "stream",
     "text": [
      "The Student name using keyname is :Nandini\n"
     ]
    }
   ],
   "source": [
    "# Access using name\n",
    "print(\"The Student name using keyname is :\",end =\"\")\n",
    "print(S.name)"
   ]
  }
 ],
 "metadata": {
  "kernelspec": {
   "display_name": "Python 3",
   "language": "python",
   "name": "python3"
  },
  "language_info": {
   "codemirror_mode": {
    "name": "ipython",
    "version": 3
   },
   "file_extension": ".py",
   "mimetype": "text/x-python",
   "name": "python",
   "nbconvert_exporter": "python",
   "pygments_lexer": "ipython3",
   "version": "3.8.8"
  }
 },
 "nbformat": 4,
 "nbformat_minor": 5
}
