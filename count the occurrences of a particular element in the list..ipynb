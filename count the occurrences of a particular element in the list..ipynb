{
 "cells": [
  {
   "cell_type": "markdown",
   "id": "cb5faa08",
   "metadata": {},
   "source": [
    "### the occurrences of particular element in the list"
   ]
  },
  {
   "cell_type": "code",
   "execution_count": 1,
   "id": "649ecd81",
   "metadata": {},
   "outputs": [
    {
     "name": "stdout",
     "output_type": "stream",
     "text": [
      "3\n"
     ]
    }
   ],
   "source": [
    "weekdays =['sun','mon','wed','thu','fri','sun','mon','mon']\n",
    "print(weekdays.count('mon'))"
   ]
  },
  {
   "cell_type": "code",
   "execution_count": 2,
   "id": "71a52d08",
   "metadata": {},
   "outputs": [
    {
     "name": "stdout",
     "output_type": "stream",
     "text": [
      "[['thu', 1], ['wed', 1], ['mon', 3], ['fri', 1], ['sun', 2]]\n"
     ]
    }
   ],
   "source": [
    "weekdays =['sun','mon','wed','thu','fri','sun','mon','mon']\n",
    "print([[x,weekdays.count(x)] for x in \n",
    "      set(weekdays)])"
   ]
  },
  {
   "cell_type": "code",
   "execution_count": null,
   "id": "a0d138f4",
   "metadata": {},
   "outputs": [],
   "source": []
  }
 ],
 "metadata": {
  "kernelspec": {
   "display_name": "Python 3",
   "language": "python",
   "name": "python3"
  },
  "language_info": {
   "codemirror_mode": {
    "name": "ipython",
    "version": 3
   },
   "file_extension": ".py",
   "mimetype": "text/x-python",
   "name": "python",
   "nbconvert_exporter": "python",
   "pygments_lexer": "ipython3",
   "version": "3.8.8"
  }
 },
 "nbformat": 4,
 "nbformat_minor": 5
}
