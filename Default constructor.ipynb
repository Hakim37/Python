{
 "cells": [
  {
   "cell_type": "code",
   "execution_count": 1,
   "id": "f8eb1611",
   "metadata": {},
   "outputs": [
    {
     "ename": "SyntaxError",
     "evalue": "unexpected EOF while parsing (<ipython-input-1-85bf07157d5f>, line 2)",
     "output_type": "error",
     "traceback": [
      "\u001b[1;36m  File \u001b[1;32m\"<ipython-input-1-85bf07157d5f>\"\u001b[1;36m, line \u001b[1;32m2\u001b[0m\n\u001b[1;33m    # bood of the constructor\u001b[0m\n\u001b[1;37m                             ^\u001b[0m\n\u001b[1;31mSyntaxError\u001b[0m\u001b[1;31m:\u001b[0m unexpected EOF while parsing\n"
     ]
    }
   ],
   "source": [
    "def __init__(self) :\n",
    "    # bood of the constructor"
   ]
  },
  {
   "cell_type": "markdown",
   "id": "7cb4bf18",
   "metadata": {},
   "source": [
    "### Type of constructor"
   ]
  },
  {
   "cell_type": "markdown",
   "id": "f39902e3",
   "metadata": {},
   "source": [
    "1 >Default constructor\n",
    "2 >Parameterized constructor"
   ]
  },
  {
   "cell_type": "code",
   "execution_count": 5,
   "id": "4ed3fe5f",
   "metadata": {},
   "outputs": [
    {
     "name": "stdout",
     "output_type": "stream",
     "text": [
      "hakim\n"
     ]
    }
   ],
   "source": [
    "class hakim:\n",
    "    # default constructor\n",
    "    def __init__(self):\n",
    "        self.geek = \"hakim\"\n",
    "    # a methon for printing data members\n",
    "    \n",
    "    def print_geek(self):\n",
    "        print(self.geek)\n",
    "        \n",
    "# Creating object of the class\n",
    "obj = hakim()\n",
    "# calling the instance method using the object obj\n",
    "obj.print_geek()"
   ]
  },
  {
   "cell_type": "markdown",
   "id": "4f36856a",
   "metadata": {},
   "source": [
    "### parameterized constructor"
   ]
  },
  {
   "cell_type": "code",
   "execution_count": null,
   "id": "cc6796a3",
   "metadata": {},
   "outputs": [],
   "source": [
    "class Addition:\n",
    "    first = 0\n",
    "    second = 0\n",
    "    answer = 0\n",
    "    \n",
    "    # Parameterized constructor\n",
    "    def __init__(self,f,s):\n",
    "        self.first = f\n",
    "        self.second = s\n",
    "        \n",
    "    def dispay(self):\n",
    "        print(\"First number =\" +str(self.first))\n",
    "        print(\"Second number =\"+str(self.second))\n",
    "        print(\"Addition of two numbers = \"+str(self.answer))\n",
    "        \n",
    "    def calculate(self):\n",
    "        self.answer = self.first + self.second\n",
    "# creating object of the class \n",
    "# this will invoke parameterized constructor\n",
    "obj = Addition(1000, 2000)\n",
    "\n",
    "# perform addition\n",
    "obj.calculate()\n",
    "\n",
    "# display result\n",
    "obj.display()"
   ]
  },
  {
   "cell_type": "code",
   "execution_count": null,
   "id": "8a4fea26",
   "metadata": {},
   "outputs": [],
   "source": []
  }
 ],
 "metadata": {
  "kernelspec": {
   "display_name": "Python 3",
   "language": "python",
   "name": "python3"
  },
  "language_info": {
   "codemirror_mode": {
    "name": "ipython",
    "version": 3
   },
   "file_extension": ".py",
   "mimetype": "text/x-python",
   "name": "python",
   "nbconvert_exporter": "python",
   "pygments_lexer": "ipython3",
   "version": "3.8.8"
  }
 },
 "nbformat": 4,
 "nbformat_minor": 5
}
