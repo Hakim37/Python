{
 "cells": [
  {
   "cell_type": "code",
   "execution_count": 1,
   "id": "f86a7cda",
   "metadata": {},
   "outputs": [],
   "source": [
    "# python code to demonstrate namedtuple() and\n",
    "# _make(),_asdic\n",
    "\n",
    "from collections import namedtuple"
   ]
  },
  {
   "cell_type": "code",
   "execution_count": 2,
   "id": "8c5f0b52",
   "metadata": {},
   "outputs": [],
   "source": [
    "# Declaring namedtuple()\n",
    "Student = namedtuple('Student',['name','age','DOB'])"
   ]
  },
  {
   "cell_type": "code",
   "execution_count": 3,
   "id": "54d257f8",
   "metadata": {},
   "outputs": [],
   "source": [
    "# Adding values\n",
    "S = Student('Nandini','19','2541997')"
   ]
  },
  {
   "cell_type": "code",
   "execution_count": 4,
   "id": "eb21eb06",
   "metadata": {},
   "outputs": [],
   "source": [
    "# Adding values\n",
    "S = Student('Nandini','19','2541997')"
   ]
  },
  {
   "cell_type": "code",
   "execution_count": 5,
   "id": "21a48cfc",
   "metadata": {},
   "outputs": [],
   "source": [
    "# initializing iterable\n",
    "\n",
    "li=['Magjeet','19','411997']"
   ]
  },
  {
   "cell_type": "code",
   "execution_count": 6,
   "id": "53f62fc0",
   "metadata": {},
   "outputs": [],
   "source": [
    "# initializ dict\n",
    "di = {'name':\"Nikhil\",'age':19,'DOB': '1391997'}"
   ]
  },
  {
   "cell_type": "code",
   "execution_count": 7,
   "id": "41e05b41",
   "metadata": {},
   "outputs": [
    {
     "name": "stdout",
     "output_type": "stream",
     "text": [
      "The namedtuple instance using iterable is :\n",
      "Student(name='Magjeet', age='19', DOB='411997')\n"
     ]
    }
   ],
   "source": [
    "# using _make() to return namedtuple()\n",
    "print(\"The namedtuple instance using iterable is :\")\n",
    "print(Student._make(li))"
   ]
  },
  {
   "cell_type": "code",
   "execution_count": 8,
   "id": "15638188",
   "metadata": {},
   "outputs": [
    {
     "name": "stdout",
     "output_type": "stream",
     "text": [
      "The OrderedDict instance using namedtuple is : \n",
      "{'name': 'Nandini', 'age': '19', 'DOB': '2541997'}\n"
     ]
    }
   ],
   "source": [
    "# using _asdict() to return an OrderedDict()\n",
    "print(\"The OrderedDict instance using namedtuple is : \")\n",
    "print(S._asdict())"
   ]
  }
 ],
 "metadata": {
  "kernelspec": {
   "display_name": "Python 3",
   "language": "python",
   "name": "python3"
  },
  "language_info": {
   "codemirror_mode": {
    "name": "ipython",
    "version": 3
   },
   "file_extension": ".py",
   "mimetype": "text/x-python",
   "name": "python",
   "nbconvert_exporter": "python",
   "pygments_lexer": "ipython3",
   "version": "3.8.8"
  }
 },
 "nbformat": 4,
 "nbformat_minor": 5
}
