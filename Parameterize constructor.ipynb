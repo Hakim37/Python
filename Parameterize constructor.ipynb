{
 "cells": [
  {
   "cell_type": "markdown",
   "id": "845e925f",
   "metadata": {},
   "source": [
    "### Type of constructor"
   ]
  },
  {
   "cell_type": "markdown",
   "id": "f0eda477",
   "metadata": {},
   "source": [
    "1 >Default constructor\n",
    "2 >Parameterized constructor"
   ]
  },
  {
   "cell_type": "markdown",
   "id": "16484c76",
   "metadata": {},
   "source": [
    "### parameterized constructor"
   ]
  },
  {
   "cell_type": "code",
   "execution_count": 9,
   "id": "4894e350",
   "metadata": {},
   "outputs": [
    {
     "name": "stdout",
     "output_type": "stream",
     "text": [
      "First number = 1000\n",
      "Second number = 2000\n",
      "Addition of two numbers = 3000\n"
     ]
    }
   ],
   "source": [
    "class Addition:\n",
    "    first = 0\n",
    "    second = 0\n",
    "    answer = 0\n",
    "     \n",
    "    # parameterized constructor\n",
    "    def __init__(self, f, s):\n",
    "        self.first = f\n",
    "        self.second = s\n",
    "     \n",
    "    def display(self):\n",
    "        print(\"First number = \" + str(self.first))\n",
    "        print(\"Second number = \" + str(self.second))\n",
    "        print(\"Addition of two numbers = \" + str(self.answer))\n",
    " \n",
    "    def calculate(self):\n",
    "        self.answer = self.first + self.second\n",
    " \n",
    "# creating object of the class\n",
    "# this will invoke parameterized constructor\n",
    "obj = Addition(1000, 2000)\n",
    " \n",
    "# perform Addition\n",
    "obj.calculate()\n",
    " \n",
    "# display result\n",
    "obj.display()"
   ]
  },
  {
   "cell_type": "markdown",
   "id": "45a47bdb",
   "metadata": {},
   "source": [
    "### Defaut constructor"
   ]
  },
  {
   "cell_type": "code",
   "execution_count": 5,
   "id": "fd064f54",
   "metadata": {},
   "outputs": [
    {
     "name": "stdout",
     "output_type": "stream",
     "text": [
      "hakim\n"
     ]
    }
   ],
   "source": [
    "class hakim:\n",
    "    # default constructor\n",
    "    def __init__(self):\n",
    "        self.geek = \"hakim\"\n",
    "    # a methon for printing data members\n",
    "    \n",
    "    def print_geek(self):\n",
    "        print(self.geek)\n",
    "        \n",
    "# Creating object of the class\n",
    "obj = hakim()\n",
    "# calling the instance method using the object obj\n",
    "obj.print_geek()"
   ]
  },
  {
   "cell_type": "code",
   "execution_count": null,
   "id": "25dbcd24",
   "metadata": {},
   "outputs": [],
   "source": []
  }
 ],
 "metadata": {
  "kernelspec": {
   "display_name": "Python 3",
   "language": "python",
   "name": "python3"
  },
  "language_info": {
   "codemirror_mode": {
    "name": "ipython",
    "version": 3
   },
   "file_extension": ".py",
   "mimetype": "text/x-python",
   "name": "python",
   "nbconvert_exporter": "python",
   "pygments_lexer": "ipython3",
   "version": "3.8.8"
  }
 },
 "nbformat": 4,
 "nbformat_minor": 5
}
