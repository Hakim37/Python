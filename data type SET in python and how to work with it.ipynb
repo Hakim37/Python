{
 "cells": [
  {
   "cell_type": "markdown",
   "id": "17cb38f3",
   "metadata": {},
   "source": [
    "### Create a set with string and perform a search in set"
   ]
  },
  {
   "cell_type": "code",
   "execution_count": 2,
   "id": "8c80d8a4",
   "metadata": {},
   "outputs": [],
   "source": [
    "objects={\"python\",\"coding\",\"tips\",\"for\",\"beginners\"}"
   ]
  },
  {
   "cell_type": "code",
   "execution_count": 4,
   "id": "723affb4",
   "metadata": {},
   "outputs": [
    {
     "name": "stdout",
     "output_type": "stream",
     "text": [
      "{'python', 'beginners', 'tips', 'for', 'coding'}\n",
      "5\n"
     ]
    }
   ],
   "source": [
    "#print set\n",
    "print(objects)\n",
    "print(len(objects))"
   ]
  },
  {
   "cell_type": "code",
   "execution_count": 5,
   "id": "9172b827",
   "metadata": {},
   "outputs": [
    {
     "name": "stdout",
     "output_type": "stream",
     "text": [
      "These are the best Python coding tips.\n"
     ]
    }
   ],
   "source": [
    "# Use of \"in\" keyword\n",
    "if \"tips\" in objects:\n",
    "    print(\"These are the best Python coding tips.\")\n",
    "    "
   ]
  },
  {
   "cell_type": "code",
   "execution_count": 6,
   "id": "93830836",
   "metadata": {},
   "outputs": [
    {
     "name": "stdout",
     "output_type": "stream",
     "text": [
      "These are the best Python coding tips not java tips.\n"
     ]
    }
   ],
   "source": [
    "# Use of \"not in \" Keyword\n",
    "if \"Java tips\" not in objects:ss\n",
    "    print(\"These are the best Python coding tips not java tips.\")"
   ]
  },
  {
   "cell_type": "code",
   "execution_count": 7,
   "id": "df808ee9",
   "metadata": {},
   "outputs": [],
   "source": [
    "# *** Lets initialize an empty set\n",
    "items = set()"
   ]
  },
  {
   "cell_type": "code",
   "execution_count": 8,
   "id": "5d0e4616",
   "metadata": {},
   "outputs": [
    {
     "name": "stdout",
     "output_type": "stream",
     "text": [
      "{'coding', 'Python', 'tips'}\n"
     ]
    }
   ],
   "source": [
    "# Add thee strings.\n",
    "items.add(\"Python\")\n",
    "items.add(\"coding\")\n",
    "items.add(\"tips\")\n",
    "\n",
    "print(items)"
   ]
  },
  {
   "cell_type": "code",
   "execution_count": null,
   "id": "bfe70f47",
   "metadata": {},
   "outputs": [],
   "source": []
  },
  {
   "cell_type": "code",
   "execution_count": null,
   "id": "4becd2d6",
   "metadata": {},
   "outputs": [],
   "source": []
  }
 ],
 "metadata": {
  "kernelspec": {
   "display_name": "Python 3",
   "language": "python",
   "name": "python3"
  },
  "language_info": {
   "codemirror_mode": {
    "name": "ipython",
    "version": 3
   },
   "file_extension": ".py",
   "mimetype": "text/x-python",
   "name": "python",
   "nbconvert_exporter": "python",
   "pygments_lexer": "ipython3",
   "version": "3.8.8"
  }
 },
 "nbformat": 4,
 "nbformat_minor": 5
}
