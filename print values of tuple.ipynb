{
 "cells": [
  {
   "cell_type": "markdown",
   "id": "e1e0bb1b",
   "metadata": {},
   "source": [
    "### Print values of tuple"
   ]
  },
  {
   "cell_type": "code",
   "execution_count": 1,
   "id": "c8eb626a",
   "metadata": {},
   "outputs": [
    {
     "name": "stdout",
     "output_type": "stream",
     "text": [
      "Hello : swati\n",
      "Hello : sweety\n",
      "Hello : shweta\n"
     ]
    }
   ],
   "source": [
    "name = ['swati','sweety','shweta']\n",
    "for id in range(len(name)):\n",
    "    print('Hello :',name[id])"
   ]
  },
  {
   "cell_type": "code",
   "execution_count": null,
   "id": "a8cd9e10",
   "metadata": {},
   "outputs": [],
   "source": []
  }
 ],
 "metadata": {
  "kernelspec": {
   "display_name": "Python 3",
   "language": "python",
   "name": "python3"
  },
  "language_info": {
   "codemirror_mode": {
    "name": "ipython",
    "version": 3
   },
   "file_extension": ".py",
   "mimetype": "text/x-python",
   "name": "python",
   "nbconvert_exporter": "python",
   "pygments_lexer": "ipython3",
   "version": "3.8.8"
  }
 },
 "nbformat": 4,
 "nbformat_minor": 5
}
