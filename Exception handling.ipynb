{
 "cells": [
  {
   "cell_type": "code",
   "execution_count": null,
   "id": "14883231",
   "metadata": {},
   "outputs": [],
   "source": [
    "try:\n",
    "x = 1\n",
    "y = 1\n",
    "print \"Result of x/y: \", x / y\n",
    "except (ZeroDivisionError):\n",
    "print(\"Can not divide by zero\")\n",
    "except (TypeError):\n",
    "print(\"Wrong data type, division is allowed on numeric data type only\")\n",
    "except:\n",
    "print \"Unexpected error occurred\", '\\n', \"Error Type: \", sys.exc_info()\n",
    "[0], '\\n', \"Error Msg: \", sys.exc_info()[1]\n",
    "50\n",
    "\n",
    "\n",
    "\n",
    "\n",
    "\n"
   ]
  }
 ],
 "metadata": {
  "kernelspec": {
   "display_name": "Python 3",
   "language": "python",
   "name": "python3"
  },
  "language_info": {
   "codemirror_mode": {
    "name": "ipython",
    "version": 3
   },
   "file_extension": ".py",
   "mimetype": "text/x-python",
   "name": "python",
   "nbconvert_exporter": "python",
   "pygments_lexer": "ipython3",
   "version": "3.8.8"
  }
 },
 "nbformat": 4,
 "nbformat_minor": 5
}
