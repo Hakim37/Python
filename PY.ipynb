{
 "cells": [
  {
   "cell_type": "code",
   "execution_count": 1,
   "metadata": {},
   "outputs": [
    {
     "name": "stdout",
     "output_type": "stream",
     "text": [
      "Enter the numver of rows:1\n",
      "*\n"
     ]
    }
   ],
   "source": [
    "n=int(input(\"Enter the numver of rows:\"))\n",
    "for i in range(1,n+1):\n",
    "    print(\"*\"*n)"
   ]
  },
  {
   "cell_type": "raw",
   "metadata": {},
   "source": [
    "n=int(input(\"Enter a number\"))\n",
    "for a in range(1,n+1,2):\n",
    "    for i in range(1,n+1):\n",
    "        print(\" \"*(2*n-i-a),end=\"\")\n",
    "    print()\n",
    "for b in range(1,n+1):\n",
    "    print(\" \"*(n-2),end=\"\")\n",
    "    print(\"* \"*3)           "
   ]
  }
 ],
 "metadata": {
  "kernelspec": {
   "display_name": "Python 3",
   "language": "python",
   "name": "python3"
  },
  "language_info": {
   "codemirror_mode": {
    "name": "ipython",
    "version": 3
   },
   "file_extension": ".py",
   "mimetype": "text/x-python",
   "name": "python",
   "nbconvert_exporter": "python",
   "pygments_lexer": "ipython3",
   "version": "3.7.3"
  }
 },
 "nbformat": 4,
 "nbformat_minor": 2
}
