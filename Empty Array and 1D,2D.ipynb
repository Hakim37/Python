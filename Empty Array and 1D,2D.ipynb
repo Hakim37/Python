{
 "cells": [
  {
   "cell_type": "markdown",
   "id": "4278b2b6",
   "metadata": {},
   "source": [
    "### Creat empty array"
   ]
  },
  {
   "cell_type": "code",
   "execution_count": 10,
   "id": "3d7e2104",
   "metadata": {},
   "outputs": [
    {
     "data": {
      "text/plain": [
       "array([], dtype=float64)"
      ]
     },
     "execution_count": 10,
     "metadata": {},
     "output_type": "execute_result"
    }
   ],
   "source": [
    "import numpy as np\n",
    "df =np.empty(0)\n",
    "df"
   ]
  },
  {
   "cell_type": "markdown",
   "id": "edc41da0",
   "metadata": {},
   "source": [
    "### create 1D Array"
   ]
  },
  {
   "cell_type": "code",
   "execution_count": 12,
   "id": "2ecd6fbd",
   "metadata": {},
   "outputs": [
    {
     "name": "stdout",
     "output_type": "stream",
     "text": [
      "1d array: [1 2 3]\n"
     ]
    }
   ],
   "source": [
    "num = [1,2,3]\n",
    "num = np.array(num)\n",
    "print('1d array:',num)"
   ]
  },
  {
   "cell_type": "markdown",
   "id": "bd629aee",
   "metadata": {},
   "source": [
    "### creat 2D array"
   ]
  },
  {
   "cell_type": "code",
   "execution_count": 16,
   "id": "1fcba0d6",
   "metadata": {},
   "outputs": [
    {
     "name": "stdout",
     "output_type": "stream",
     "text": [
      "\n",
      "2d array: [[1 2 3]\n",
      " [4 5 6]]\n"
     ]
    }
   ],
   "source": [
    "num2=[[1,2,3],[4,5,6]]\n",
    "num2 = np.array(num2)\n",
    "print(\"\\n2d array:\",num2)"
   ]
  },
  {
   "cell_type": "code",
   "execution_count": 18,
   "id": "b6ffe9e9",
   "metadata": {},
   "outputs": [
    {
     "name": "stdout",
     "output_type": "stream",
     "text": [
      "\n",
      "3d array: [[1 2 3]\n",
      " [4 5 6]\n",
      " [7 8 9]]\n"
     ]
    }
   ],
   "source": [
    "num3 =[[1,2,3,],[4,5,6],[7,8,9]]\n",
    "num3 = np.array(num3)\n",
    "print(\"\\n3d array:\",num3)"
   ]
  },
  {
   "cell_type": "markdown",
   "id": "cc7b8940",
   "metadata": {},
   "source": [
    "### 5 zeroos"
   ]
  },
  {
   "cell_type": "code",
   "execution_count": null,
   "id": "dcc5363d",
   "metadata": {},
   "outputs": [],
   "source": [
    "arr = np.zeros(5)\n",
    "print('single array',)"
   ]
  }
 ],
 "metadata": {
  "kernelspec": {
   "display_name": "Python 3",
   "language": "python",
   "name": "python3"
  },
  "language_info": {
   "codemirror_mode": {
    "name": "ipython",
    "version": 3
   },
   "file_extension": ".py",
   "mimetype": "text/x-python",
   "name": "python",
   "nbconvert_exporter": "python",
   "pygments_lexer": "ipython3",
   "version": "3.8.8"
  }
 },
 "nbformat": 4,
 "nbformat_minor": 5
}
