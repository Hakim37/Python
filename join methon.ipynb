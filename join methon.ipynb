{
 "cells": [
  {
   "cell_type": "markdown",
   "id": "65b9bcf3",
   "metadata": {},
   "source": [
    "### convert a list into a string"
   ]
  },
  {
   "cell_type": "code",
   "execution_count": 13,
   "id": "52e6550d",
   "metadata": {},
   "outputs": [
    {
     "data": {
      "text/plain": [
       "'sun .mon .tue .wed .thu .fri .sat'"
      ]
     },
     "execution_count": 13,
     "metadata": {},
     "output_type": "execute_result"
    }
   ],
   "source": [
    "weekdays = ['sun','mon','tue','wed','thu','fri','sat']\n",
    "\n",
    "listAsString =' .'.join(weekdays)\n",
    "listAsString"
   ]
  },
  {
   "cell_type": "code",
   "execution_count": 14,
   "id": "7c71f11e",
   "metadata": {},
   "outputs": [
    {
     "name": "stdout",
     "output_type": "stream",
     "text": [
      "('sun', 'mon', 'tue', 'wed', 'thu', 'fri', 'sat')\n"
     ]
    }
   ],
   "source": [
    "weekdays = ['sun','mon','tue','wed','thu','fri','sat']\n",
    "listAsTuple = tuple(weekdays)\n",
    "print(listAsTuple)"
   ]
  },
  {
   "cell_type": "code",
   "execution_count": 15,
   "id": "ce6a10ed",
   "metadata": {},
   "outputs": [
    {
     "name": "stdout",
     "output_type": "stream",
     "text": [
      "{'tue', 'thu', 'fri', 'sat', 'mon', 'wed', 'sun'}\n"
     ]
    }
   ],
   "source": [
    "weekdays = ['sun','mon','tue','wed','thu','fri','sat','sun','tue']\n",
    "listAsSet = set(weekdays)\n",
    "print(listAsSet)"
   ]
  },
  {
   "cell_type": "code",
   "execution_count": 19,
   "id": "9cdaeed0",
   "metadata": {},
   "outputs": [
    {
     "name": "stdout",
     "output_type": "stream",
     "text": [
      "3\n"
     ]
    }
   ],
   "source": [
    "weekdays = ['sun','mon','tue','wed','thu','fri','sun','mon','mon']\n",
    "print(weekdays.count('mon'))"
   ]
  },
  {
   "cell_type": "code",
   "execution_count": 20,
   "id": "b0886e8d",
   "metadata": {},
   "outputs": [
    {
     "name": "stdout",
     "output_type": "stream",
     "text": [
      "[['tue', 1], ['thu', 1], ['fri', 1], ['mon', 3], ['wed', 1], ['sun', 2]]\n"
     ]
    }
   ],
   "source": [
    "weekdays = ['sun','mon','tue','wed','thu','fri','sun','mon','mon']\n",
    "print([[x,weekdays.count(x)] for x in set(weekdays)])"
   ]
  }
 ],
 "metadata": {
  "kernelspec": {
   "display_name": "Python 3",
   "language": "python",
   "name": "python3"
  },
  "language_info": {
   "codemirror_mode": {
    "name": "ipython",
    "version": 3
   },
   "file_extension": ".py",
   "mimetype": "text/x-python",
   "name": "python",
   "nbconvert_exporter": "python",
   "pygments_lexer": "ipython3",
   "version": "3.8.8"
  }
 },
 "nbformat": 4,
 "nbformat_minor": 5
}
