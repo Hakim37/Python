{
 "cells": [
  {
   "cell_type": "code",
   "execution_count": 1,
   "id": "c3849705",
   "metadata": {},
   "outputs": [],
   "source": [
    "# python3\n",
    "\n",
    "# Given an unsorted integer array, find the first missing positive integer.\n",
    "\n",
    "# Example:\n",
    "\n",
    "# Given [1,2,0] return 3,\n",
    "\n",
    "# [3,4,-1,1] return 2,\n",
    "\n",
    "# [-8, -7, -6] returns 1\n",
    "\n",
    "# Your algorithm should run in O(n) time and use constant space.\n",
    "\n",
    "\n",
    "\n",
    "class Solution:\n",
    "    # @param A : list of integers\n",
    "    # @return an integer\n",
    "    def firstMissingPositive(self, A):\n",
    "        positive = {}\n",
    "        initialPosition = 1\n",
    "        for n in A:\n",
    "            if n>0:\n",
    "                positive[n]=1\n",
    "        while positive.get(initialPosition,0):\n",
    "            initialPosition += 1\n",
    "        \n",
    "        return initialPosition"
   ]
  }
 ],
 "metadata": {
  "kernelspec": {
   "display_name": "Python 3",
   "language": "python",
   "name": "python3"
  },
  "language_info": {
   "codemirror_mode": {
    "name": "ipython",
    "version": 3
   },
   "file_extension": ".py",
   "mimetype": "text/x-python",
   "name": "python",
   "nbconvert_exporter": "python",
   "pygments_lexer": "ipython3",
   "version": "3.8.8"
  }
 },
 "nbformat": 4,
 "nbformat_minor": 5
}
