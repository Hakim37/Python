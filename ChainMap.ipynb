{
 "cells": [
  {
   "cell_type": "markdown",
   "id": "5f9f5828",
   "metadata": {},
   "source": [
    "### ChainMap"
   ]
  },
  {
   "cell_type": "code",
   "execution_count": 2,
   "id": "7bd309d9",
   "metadata": {},
   "outputs": [],
   "source": [
    "from collections import ChainMap"
   ]
  },
  {
   "cell_type": "code",
   "execution_count": 3,
   "id": "582af3e9",
   "metadata": {},
   "outputs": [],
   "source": [
    "d1={'a':1,'b':2}\n",
    "d2 = {'c':3,'d':4}\n",
    "d3 = {'e':5,'f':6}"
   ]
  },
  {
   "cell_type": "code",
   "execution_count": 4,
   "id": "5a1a71fb",
   "metadata": {},
   "outputs": [
    {
     "name": "stdout",
     "output_type": "stream",
     "text": [
      "ChainMap({'a': 1, 'b': 2}, {'c': 3, 'd': 4}, {'e': 5, 'f': 6})\n"
     ]
    }
   ],
   "source": [
    "# Defining the chainmap\n",
    "c = ChainMap(d1,d2,d3)\n",
    "print(c)"
   ]
  }
 ],
 "metadata": {
  "kernelspec": {
   "display_name": "Python 3",
   "language": "python",
   "name": "python3"
  },
  "language_info": {
   "codemirror_mode": {
    "name": "ipython",
    "version": 3
   },
   "file_extension": ".py",
   "mimetype": "text/x-python",
   "name": "python",
   "nbconvert_exporter": "python",
   "pygments_lexer": "ipython3",
   "version": "3.8.8"
  }
 },
 "nbformat": 4,
 "nbformat_minor": 5
}
