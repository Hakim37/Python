{
 "cells": [
  {
   "cell_type": "markdown",
   "metadata": {},
   "source": [
    "## Example of correct indentation"
   ]
  },
  {
   "cell_type": "code",
   "execution_count": 1,
   "metadata": {},
   "outputs": [
    {
     "name": "stdout",
     "output_type": "stream",
     "text": [
      "programming is an important skill for data science \n",
      "Statistics is a important skill for Data Science\n",
      "Business is domain knowledge is a important skill for data science\n"
     ]
    }
   ],
   "source": [
    "#correct indentation\n",
    "\n",
    "print(\"programming is an important skill for data science \")\n",
    "print(\"Statistics is a important skill for Data Science\")\n",
    "print(\"Business is domain knowledge is a important skill for data science\")"
   ]
  },
  {
   "cell_type": "code",
   "execution_count": 4,
   "metadata": {},
   "outputs": [
    {
     "name": "stdout",
     "output_type": "stream",
     "text": [
      "x has a value of '1'\n"
     ]
    }
   ],
   "source": [
    "#Correct indentation,note that if statement here is an example of suites\n",
    "x=1\n",
    "if x==1:\n",
    "    print(\"x has a value of '1'\")\n",
    "    \n",
    "else:\n",
    "    print(\"x does NOT hava a values of 1\")"
   ]
  },
  {
   "cell_type": "code",
   "execution_count": 5,
   "metadata": {},
   "outputs": [
    {
     "name": "stdout",
     "output_type": "stream",
     "text": [
      "x has a value od 1\n"
     ]
    }
   ],
   "source": [
    "# Example of incorrect indentation\n",
    "\n",
    "x=1\n",
    "if x==1:\n",
    "    print('x has a value od 1')\n",
    "    \n",
    "else:\n",
    "    print('x does NOT have a velue of 1')"
   ]
  },
  {
   "cell_type": "code",
   "execution_count": 17,
   "metadata": {},
   "outputs": [],
   "source": [
    "# Basic Object Types\n",
    "# Complex\n",
    "\n",
    "String ='this is a string',\"alsome\" #use single or double an double\n",
    "#Tuple\n",
    "Tuple=(1,True,'ML') #Empty tuple\n",
    "#List\n",
    "list = [1,True,'ML']\n",
    "#Set\n",
    "s =(1,'ML')\n",
    "# dictionary\n",
    "#dic ={['l':'A','2':'AA',True=1,False=0]}\n",
    "\n",
    "# File"
   ]
  },
  {
   "cell_type": "code",
   "execution_count": 18,
   "metadata": {},
   "outputs": [],
   "source": [
    "# Codiing for Basic Object Typ\n",
    "\n",
    "none = None # singleton null object \n",
    "boolean = bool(True)\n",
    "integer =1\n",
    "Long = 3.14"
   ]
  },
  {
   "cell_type": "code",
   "execution_count": 19,
   "metadata": {},
   "outputs": [
    {
     "data": {
      "text/plain": [
       "True"
      ]
     },
     "execution_count": 19,
     "metadata": {},
     "output_type": "execute_result"
    }
   ],
   "source": [
    "boolean"
   ]
  },
  {
   "cell_type": "code",
   "execution_count": 20,
   "metadata": {},
   "outputs": [],
   "source": [
    "# float \n",
    "Float = 3.14\n",
    "Float_inf = float('inf')\n",
    "Float_nan = float('nan')"
   ]
  },
  {
   "cell_type": "code",
   "execution_count": 21,
   "metadata": {},
   "outputs": [
    {
     "data": {
      "text/plain": [
       "3.14"
      ]
     },
     "execution_count": 21,
     "metadata": {},
     "output_type": "execute_result"
    }
   ],
   "source": [
    "Float"
   ]
  },
  {
   "cell_type": "code",
   "execution_count": 23,
   "metadata": {},
   "outputs": [
    {
     "data": {
      "text/plain": [
       "(2+8j)"
      ]
     },
     "execution_count": 23,
     "metadata": {},
     "output_type": "execute_result"
    }
   ],
   "source": [
    "# comlex object type note the usage of latter j\n",
    "complex =2+8j\n",
    "\n",
    "complex"
   ]
  },
  {
   "cell_type": "code",
   "execution_count": 25,
   "metadata": {},
   "outputs": [
    {
     "data": {
      "text/plain": [
       "'also me'"
      ]
     },
     "execution_count": 25,
     "metadata": {},
     "output_type": "execute_result"
    }
   ],
   "source": [
    "# sting can be enclosed in single or double quote\n",
    "string = 'this is a string'\n",
    "me_also_string=\"also me\"\n",
    "string\n",
    "me_also_string"
   ]
  },
  {
   "cell_type": "code",
   "execution_count": 27,
   "metadata": {},
   "outputs": [
    {
     "data": {
      "text/plain": [
       "[1, True, 'ML']"
      ]
     },
     "execution_count": 27,
     "metadata": {},
     "output_type": "execute_result"
    }
   ],
   "source": [
    "List = [1,True,'ML'] # values can be changeed\n",
    "List"
   ]
  },
  {
   "cell_type": "code",
   "execution_count": 28,
   "metadata": {},
   "outputs": [
    {
     "data": {
      "text/plain": [
       "(1, True, 'ML')"
      ]
     },
     "execution_count": 28,
     "metadata": {},
     "output_type": "execute_result"
    }
   ],
   "source": [
    "Tuple=(1,True,'ML')\n",
    "Tuple"
   ]
  },
  {
   "cell_type": "code",
   "execution_count": 31,
   "metadata": {},
   "outputs": [
    {
     "data": {
      "text/plain": [
       "{1, 2, 3, 4, 5}"
      ]
     },
     "execution_count": 31,
     "metadata": {},
     "output_type": "execute_result"
    }
   ],
   "source": [
    "Set=set([1,2,2,2,2,2,3,4,5,5]) # Duplicatees will not be stored\n",
    "Set"
   ]
  },
  {
   "cell_type": "code",
   "execution_count": null,
   "metadata": {},
   "outputs": [],
   "source": [
    "# Use a dictionary when you have a set of uniques ke\n",
    "Dic={'a':}"
   ]
  },
  {
   "cell_type": "code",
   "execution_count": null,
   "metadata": {},
   "outputs": [],
   "source": []
  },
  {
   "cell_type": "code",
   "execution_count": null,
   "metadata": {},
   "outputs": [],
   "source": []
  },
  {
   "cell_type": "code",
   "execution_count": null,
   "metadata": {},
   "outputs": [],
   "source": []
  },
  {
   "cell_type": "code",
   "execution_count": null,
   "metadata": {},
   "outputs": [],
   "source": []
  },
  {
   "cell_type": "code",
   "execution_count": null,
   "metadata": {},
   "outputs": [],
   "source": []
  },
  {
   "cell_type": "code",
   "execution_count": null,
   "metadata": {},
   "outputs": [],
   "source": []
  },
  {
   "cell_type": "code",
   "execution_count": null,
   "metadata": {},
   "outputs": [],
   "source": []
  }
 ],
 "metadata": {
  "kernelspec": {
   "display_name": "Python 3",
   "language": "python",
   "name": "python3"
  },
  "language_info": {
   "codemirror_mode": {
    "name": "ipython",
    "version": 3
   },
   "file_extension": ".py",
   "mimetype": "text/x-python",
   "name": "python",
   "nbconvert_exporter": "python",
   "pygments_lexer": "ipython3",
   "version": "3.7.3"
  }
 },
 "nbformat": 4,
 "nbformat_minor": 2
}
