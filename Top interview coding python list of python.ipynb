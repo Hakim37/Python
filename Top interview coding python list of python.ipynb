{
 "cells": [
  {
   "cell_type": "markdown",
   "id": "9be2cf59",
   "metadata": {},
   "source": [
    "ven a sorted array of Integers nums, remove the duplicates in-place such that each\n",
    "element appear only once and return the new length.\n",
    "Example:\n",
    "Input: nums = [1, 1, 2]\n",
    "Output: 2. And after running, nums = [1, 2]"
   ]
  },
  {
   "cell_type": "code",
   "execution_count": 1,
   "id": "bd13588a",
   "metadata": {},
   "outputs": [
    {
     "name": "stdout",
     "output_type": "stream",
     "text": [
      "[1, 2]\n"
     ]
    }
   ],
   "source": [
    "class Solution:\n",
    "    def removeDuplicates(self, nums):\n",
    "        nums = list(set(nums))\n",
    "        return len(nums)\n",
    "\n",
    "nums = [1,2,1]\n",
    "solver = Solution()\n",
    "length = solver.removeDuplicates(nums)\n",
    "print(nums[:length])"
   ]
  },
  {
   "cell_type": "code",
   "execution_count": 2,
   "id": "38054af9",
   "metadata": {},
   "outputs": [
    {
     "ename": "SyntaxError",
     "evalue": "invalid syntax (<ipython-input-2-73e87753d0e1>, line 1)",
     "output_type": "error",
     "traceback": [
      "\u001b[1;36m  File \u001b[1;32m\"<ipython-input-2-73e87753d0e1>\"\u001b[1;36m, line \u001b[1;32m1\u001b[0m\n\u001b[1;33m    Given a set of characters chars and a positive integer k, return an array containing all\u001b[0m\n\u001b[1;37m          ^\u001b[0m\n\u001b[1;31mSyntaxError\u001b[0m\u001b[1;31m:\u001b[0m invalid syntax\n"
     ]
    }
   ],
   "source": [
    "Given a set of characters chars and a positive integer k, return an array containing all\n",
    "possible strings of length k that can be formed from the given set.\n"
   ]
  },
  {
   "cell_type": "code",
   "execution_count": null,
   "id": "00f02696",
   "metadata": {},
   "outputs": [],
   "source": [
    "chars=[a,b]"
   ]
  },
  {
   "cell_type": "code",
   "execution_count": null,
   "id": "17921f4c",
   "metadata": {},
   "outputs": [],
   "source": []
  },
  {
   "cell_type": "code",
   "execution_count": null,
   "id": "448abcb9",
   "metadata": {},
   "outputs": [],
   "source": [
    " \n",
    "def removeDuplicates(self, nums):\n",
    "        nums = list(set(nums))\n",
    "        return len(nums)\n",
    "\n",
    "    "
   ]
  },
  {
   "cell_type": "markdown",
   "id": "4c697ceb",
   "metadata": {},
   "source": [
    "Given a sorted array of integers nums, and a target value t. Find out if the target exists\n",
    "in the array or not using the Binary Search algorithm. Return -1 if target does not exist\n",
    "and the target’s index if it does exist.\n",
    "https://www.techiedelight.com/binary-search/"
   ]
  },
  {
   "cell_type": "markdown",
   "id": "ed3285ba",
   "metadata": {},
   "source": [
    "Example:\n",
    "Input: nums = [2, 3, 5, 7, 9] and t = 7\n",
    "Output: 3"
   ]
  },
  {
   "cell_type": "code",
   "execution_count": null,
   "id": "2aa4b40d",
   "metadata": {},
   "outputs": [],
   "source": []
  },
  {
   "cell_type": "code",
   "execution_count": null,
   "id": "1b488e32",
   "metadata": {},
   "outputs": [],
   "source": [
    "# Recursive implementation of the binary search algorithm to return\n",
    "# the position of `target` in subarray nums[left…right]\n",
    "def binarySearch(nums, left, right, target):\n",
    " \n",
    "    # Base condition (search space is exhausted)\n",
    "    if left > right:\n",
    "        return -1\n",
    " \n",
    "    # find the mid-value in the search space and\n",
    "    # compares it with the target\n",
    " \n",
    "    mid = (left + right) // 2\n",
    " \n",
    "    # overflow can happen. Use below\n",
    "    # mid = left + (right - left) / 2\n",
    " \n",
    "    # Base condition (a target is found)\n",
    "    if target == nums[mid]:\n",
    "        return mid\n",
    " \n",
    "    # discard all elements in the right search space,\n",
    "    # including the middle element\n",
    "    elif target < nums[mid]:\n",
    "        return binarySearch(nums, left, mid - 1, target)\n",
    " \n",
    "    # discard all elements in the left search space,\n",
    "    # including the middle element\n",
    "    else:\n",
    "        return binarySearch(nums, mid + 1, right, target)\n",
    " \n",
    " \n",
    "if __name__ == '__main__':\n",
    " \n",
    "    nums = [2,3,5,7,9]\n",
    "    target = 7\n",
    " \n",
    "    (left, right) = (0, len(nums) - 1)\n",
    "    index = binarySearch(nums, left, right, target)\n",
    " \n",
    "    if index != -1:\n",
    "        print('Element found at index', index)\n",
    "    else:\n",
    "        print('Element found not in the list')"
   ]
  },
  {
   "cell_type": "markdown",
   "id": "4026c884",
   "metadata": {},
   "source": [
    "# test"
   ]
  },
  {
   "cell_type": "code",
   "execution_count": null,
   "id": "ea3e9270",
   "metadata": {},
   "outputs": [],
   "source": [
    "def binarySearch(nums, left, right, t):\n",
    "    if left > right:\n",
    "        return -1\n",
    "    mid = (left + right)\n",
    "    if t == nums[mid]:\n",
    "        return mid\n",
    "    elif target < nums[mid]:\n",
    "        return binarySearch(nums, left, mid - 1, t)\n",
    "    else:\n",
    "        return binarySearch(nums, mid + 1, right, t)\n",
    " \n",
    " \n",
    "if __name__ == '__main__':\n",
    " \n",
    "#input\n",
    "    nums = [2,3,5,7,9]\n",
    "    t = 7\n",
    " \n",
    "    (left, right) = (0, len(nums) - 1)\n",
    "    index = binarySearch(nums, left, right, t)\n",
    " \n",
    "    if index != -1:\n",
    "        print(index)\n",
    "    else:\n",
    "        print('no')"
   ]
  },
  {
   "cell_type": "markdown",
   "id": "ce153b89",
   "metadata": {},
   "source": [
    "Given a set of characters chars and a positive integer k, return an array containing all\n",
    "possible strings of length k that can be formed from the given set.\n",
    "https://www.geeksforgeeks.org/print-all-combinations-of-given-length/\n"
   ]
  },
  {
   "cell_type": "raw",
   "id": "c9c59ea7",
   "metadata": {},
   "source": [
    "Example:\n",
    "Input: chars = [a, b] and k = 3\n",
    "Output: [aaa, aab, aba, abb, baa, bab, bba, bbb]"
   ]
  },
  {
   "cell_type": "code",
   "execution_count": 3,
   "id": "8d3d25fc",
   "metadata": {},
   "outputs": [
    {
     "name": "stdout",
     "output_type": "stream",
     "text": [
      "aaa\n",
      "aab\n",
      "aba\n",
      "abb\n",
      "baa\n",
      "bab\n",
      "bba\n",
      "bbb\n"
     ]
    }
   ],
   "source": [
    "def KLength(set, k):\n",
    " \n",
    "    n = len(set)\n",
    "    KLengthRec(set, \"\", n, k)\n",
    "def KLengthRec(set, prefix, n, k):\n",
    "    if (k == 0) :\n",
    "        print(prefix)\n",
    "        return\n",
    "    for i in range(n):\n",
    "        newPrefix = prefix + set[i]\n",
    "        KLengthRec(set, newPrefix, n, k - 1)\n",
    "\n",
    "if __name__ == \"__main__\":\n",
    "    set1 = ['a', 'b']\n",
    "    k = 3\n",
    "    KLength(set1, k)"
   ]
  },
  {
   "cell_type": "code",
   "execution_count": 4,
   "id": "a5d8a402",
   "metadata": {},
   "outputs": [],
   "source": [
    "class Solve(object):\n",
    "    num=[1,1,2]\n",
    "    def removeDuplicates(self, nums):\n",
    "        \"\"\"\n",
    "        :type nums: List[int]\n",
    "        :rtype: int\n",
    "        \"\"\"\n",
    "        k=0\n",
    "        for i in range(i+1,len(nums)-1):\n",
    "            j=i+1\n",
    "\n",
    "            for j in range(j+1,len(len(nums))):\n",
    "                if nums[i] == nums[j]:\n",
    "                    del nums[j]\n",
    "        len_list = nums\n",
    "        return(len_list, nums)"
   ]
  },
  {
   "cell_type": "code",
   "execution_count": 5,
   "id": "33f80f61",
   "metadata": {},
   "outputs": [],
   "source": [
    "a = [1,1,1,3,4,5,5,5,5,7,7,7,9,9]\n",
    "for i in range(len(a)-1,0,-1):\n",
    "    if a[i] == a[i-1]:\n",
    "        del a[i]"
   ]
  }
 ],
 "metadata": {
  "kernelspec": {
   "display_name": "Python 3",
   "language": "python",
   "name": "python3"
  },
  "language_info": {
   "codemirror_mode": {
    "name": "ipython",
    "version": 3
   },
   "file_extension": ".py",
   "mimetype": "text/x-python",
   "name": "python",
   "nbconvert_exporter": "python",
   "pygments_lexer": "ipython3",
   "version": "3.8.8"
  }
 },
 "nbformat": 4,
 "nbformat_minor": 5
}
