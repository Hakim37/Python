{
 "cells": [
  {
   "cell_type": "code",
   "execution_count": null,
   "metadata": {},
   "outputs": [],
   "source": [
    "# Python code for Object \n",
    "# oriented Concepts without\n",
    "# using Factory method"
   ]
  },
  {
   "cell_type": "code",
   "execution_count": 1,
   "metadata": {},
   "outputs": [
    {
     "name": "stdout",
     "output_type": "stream",
     "text": [
      "voiture\n",
      "car\n",
      "coche\n",
      "bicyclette\n",
      "bike\n",
      "bicicleta\n",
      "cyclette\n",
      "cycle\n",
      "ciclo\n"
     ]
    }
   ],
   "source": [
    "# Python Code for Object\n",
    "# Oriented Concepts without\n",
    "# using Factory method\n",
    "\n",
    "class FrenchLocalizer:\n",
    "\n",
    "\t\"\"\" it simply returns the french version \"\"\"\n",
    "\n",
    "\tdef __init__(self):\n",
    "\n",
    "\t\tself.translations = {\"car\": \"voiture\", \"bike\": \"bicyclette\",\n",
    "\t\t\t\t\t\t\t\"cycle\":\"cyclette\"}\n",
    "\n",
    "\tdef localize(self, message):\n",
    "\n",
    "\t\t\"\"\"change the message using translations\"\"\"\n",
    "\t\treturn self.translations.get(msg, msg)\n",
    "\n",
    "class SpanishLocalizer:\n",
    "\t\"\"\"it simply returns the spanish version\"\"\"\n",
    "\n",
    "\tdef __init__(self):\n",
    "\n",
    "\t\tself.translations = {\"car\": \"coche\", \"bike\": \"bicicleta\",\n",
    "\t\t\t\t\t\t\t\"cycle\":\"ciclo\"}\n",
    "\n",
    "\tdef localize(self, msg):\n",
    "\n",
    "\t\t\"\"\"change the message using translations\"\"\"\n",
    "\t\treturn self.translations.get(msg, msg)\n",
    "\n",
    "class EnglishLocalizer:\n",
    "\t\"\"\"Simply return the same message\"\"\"\n",
    "\n",
    "\tdef localize(self, msg):\n",
    "\t\treturn msg\n",
    "\n",
    "if __name__ == \"__main__\":\n",
    "\n",
    "\t# main method to call others\n",
    "\tf = FrenchLocalizer()\n",
    "\te = EnglishLocalizer()\n",
    "\ts = SpanishLocalizer()\n",
    "\n",
    "\t# list of strings\n",
    "\tmessage = [\"car\", \"bike\", \"cycle\"]\n",
    "\n",
    "\tfor msg in message:\n",
    "\t\tprint(f.localize(msg))\n",
    "\t\tprint(e.localize(msg))\n",
    "\t\tprint(s.localize(msg))\n"
   ]
  }
 ],
 "metadata": {
  "kernelspec": {
   "display_name": "Python 3",
   "language": "python",
   "name": "python3"
  },
  "language_info": {
   "codemirror_mode": {
    "name": "ipython",
    "version": 3
   },
   "file_extension": ".py",
   "mimetype": "text/x-python",
   "name": "python",
   "nbconvert_exporter": "python",
   "pygments_lexer": "ipython3",
   "version": "3.7.3"
  }
 },
 "nbformat": 4,
 "nbformat_minor": 2
}
