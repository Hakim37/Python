{
 "cells": [
  {
   "cell_type": "markdown",
   "id": "5a16b2c4",
   "metadata": {},
   "source": [
    "### Create Empty NumPy Array in Python"
   ]
  },
  {
   "cell_type": "code",
   "execution_count": 1,
   "id": "efc4183a",
   "metadata": {},
   "outputs": [
    {
     "data": {
      "text/plain": [
       "array([], dtype=float64)"
      ]
     },
     "execution_count": 1,
     "metadata": {},
     "output_type": "execute_result"
    }
   ],
   "source": [
    "import numpy\n",
    "numpy.array([])"
   ]
  },
  {
   "cell_type": "code",
   "execution_count": 2,
   "id": "37ec2ef9",
   "metadata": {},
   "outputs": [
    {
     "data": {
      "text/plain": [
       "array([], shape=(0, 0), dtype=float64)"
      ]
     },
     "execution_count": 2,
     "metadata": {},
     "output_type": "execute_result"
    }
   ],
   "source": [
    "numpy.empty(shape=(0,0))"
   ]
  },
  {
   "cell_type": "code",
   "execution_count": 3,
   "id": "b0a99b06",
   "metadata": {
    "scrolled": false
   },
   "outputs": [
    {
     "data": {
      "text/plain": [
       "array([0., 0., 0.])"
      ]
     },
     "execution_count": 3,
     "metadata": {},
     "output_type": "execute_result"
    }
   ],
   "source": [
    "import numpy as np\n",
    "np.zeros(3)"
   ]
  },
  {
   "cell_type": "code",
   "execution_count": 4,
   "id": "e66f8230",
   "metadata": {},
   "outputs": [
    {
     "data": {
      "text/plain": [
       "array([[1., 0., 0.],\n",
       "       [0., 1., 0.],\n",
       "       [0., 0., 1.]])"
      ]
     },
     "execution_count": 4,
     "metadata": {},
     "output_type": "execute_result"
    }
   ],
   "source": [
    "np.eye(3,3)"
   ]
  },
  {
   "cell_type": "markdown",
   "id": "d7be7c30",
   "metadata": {},
   "source": [
    "### the occurrences of particular element in the list"
   ]
  },
  {
   "cell_type": "code",
   "execution_count": 5,
   "id": "c04d68dd",
   "metadata": {},
   "outputs": [
    {
     "name": "stdout",
     "output_type": "stream",
     "text": [
      "3\n"
     ]
    }
   ],
   "source": [
    "weekdays =['sun','mon','wed','thu','fri','sun','mon','mon']\n",
    "print(weekdays.count('mon'))"
   ]
  },
  {
   "cell_type": "code",
   "execution_count": 6,
   "id": "9b705894",
   "metadata": {},
   "outputs": [
    {
     "name": "stdout",
     "output_type": "stream",
     "text": [
      "[['sun', 2], ['mon', 3], ['thu', 1], ['wed', 1], ['fri', 1]]\n"
     ]
    }
   ],
   "source": [
    "weekdays =['sun','mon','wed','thu','fri','sun','mon','mon']\n",
    "print([[x,weekdays.count(x)] for x in \n",
    "      set(weekdays)])"
   ]
  }
 ],
 "metadata": {
  "kernelspec": {
   "display_name": "Python 3",
   "language": "python",
   "name": "python3"
  },
  "language_info": {
   "codemirror_mode": {
    "name": "ipython",
    "version": 3
   },
   "file_extension": ".py",
   "mimetype": "text/x-python",
   "name": "python",
   "nbconvert_exporter": "python",
   "pygments_lexer": "ipython3",
   "version": "3.8.8"
  }
 },
 "nbformat": 4,
 "nbformat_minor": 5
}
