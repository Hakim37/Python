{
 "cells": [
  {
   "cell_type": "markdown",
   "id": "f41ad9a6",
   "metadata": {},
   "source": [
    "## Python program to demonstrate2"
   ]
  },
  {
   "cell_type": "code",
   "execution_count": 1,
   "id": "df4de63e",
   "metadata": {},
   "outputs": [],
   "source": [
    "# defaultdict\n",
    "from collections import defaultdict"
   ]
  },
  {
   "cell_type": "code",
   "execution_count": null,
   "id": "0fcdb61b",
   "metadata": {},
   "outputs": [],
   "source": [
    "# Defining the dict\n",
    "d = defaultdict(int)\n",
    "\n",
    "L = [1,2,3,4,2,4,1,2]\n",
    "\n",
    "# Iterate through the list\n",
    "# for keeping the count\n",
    "\n",
    "for i in L:\n",
    "    # The default value is 0\n",
    "    # so there is no need to \n",
    "    # enter the key first\n",
    "    d[i] +"
   ]
  },
  {
   "cell_type": "code",
   "execution_count": null,
   "id": "269dbeb0",
   "metadata": {},
   "outputs": [],
   "source": []
  },
  {
   "cell_type": "code",
   "execution_count": null,
   "id": "38516bae",
   "metadata": {},
   "outputs": [],
   "source": []
  }
 ],
 "metadata": {
  "kernelspec": {
   "display_name": "Python 3",
   "language": "python",
   "name": "python3"
  },
  "language_info": {
   "codemirror_mode": {
    "name": "ipython",
    "version": 3
   },
   "file_extension": ".py",
   "mimetype": "text/x-python",
   "name": "python",
   "nbconvert_exporter": "python",
   "pygments_lexer": "ipython3",
   "version": "3.8.8"
  }
 },
 "nbformat": 4,
 "nbformat_minor": 5
}
