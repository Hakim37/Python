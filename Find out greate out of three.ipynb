{
 "cells": [
  {
   "cell_type": "markdown",
   "id": "84718f20",
   "metadata": {},
   "source": [
    "### input values or assign"
   ]
  },
  {
   "cell_type": "code",
   "execution_count": 4,
   "id": "7ee9738e",
   "metadata": {},
   "outputs": [],
   "source": [
    "a = 2\n",
    "n = 3\n",
    "c = 4\n",
    "b = 5"
   ]
  },
  {
   "cell_type": "markdown",
   "id": "ed5c8b6c",
   "metadata": {},
   "source": [
    "### code for check greater number"
   ]
  },
  {
   "cell_type": "code",
   "execution_count": 5,
   "id": "5e98c974",
   "metadata": {},
   "outputs": [
    {
     "name": "stdout",
     "output_type": "stream",
     "text": [
      "B is greater\n"
     ]
    }
   ],
   "source": [
    "if (a>b) and (a>c) :\n",
    "    print (\"A is greater\")\n",
    "elif(b>a) and (b>c) :\n",
    "    print (\"B is greater\")\n",
    "else :\n",
    "    print (\"c is greater\")"
   ]
  },
  {
   "cell_type": "code",
   "execution_count": null,
   "id": "a4567f07",
   "metadata": {},
   "outputs": [],
   "source": []
  }
 ],
 "metadata": {
  "kernelspec": {
   "display_name": "Python 3",
   "language": "python",
   "name": "python3"
  },
  "language_info": {
   "codemirror_mode": {
    "name": "ipython",
    "version": 3
   },
   "file_extension": ".py",
   "mimetype": "text/x-python",
   "name": "python",
   "nbconvert_exporter": "python",
   "pygments_lexer": "ipython3",
   "version": "3.8.8"
  }
 },
 "nbformat": 4,
 "nbformat_minor": 5
}
