{
 "cells": [
  {
   "cell_type": "code",
   "execution_count": 1,
   "id": "0a06237d",
   "metadata": {},
   "outputs": [
    {
     "name": "stdout",
     "output_type": "stream",
     "text": [
      "Model is audi a4\n",
      "color is blue\n",
      "Model is ferrari 488\n",
      "color is green\n"
     ]
    }
   ],
   "source": [
    "class car():\n",
    "    \n",
    "    # init method or constructor\n",
    "    \n",
    "    def __init__(self,model,color):\n",
    "        self.model = model\n",
    "        self.color = color\n",
    "        \n",
    "    def show(self):\n",
    "        print(\"Model is\", self.model)\n",
    "        print(\"color is\",self.color)\n",
    "        \n",
    "# both objects have different self which\n",
    "# contain their attributes\n",
    "audi = car(\"audi a4\", \"blue\")\n",
    "ferrari = car(\"ferrari 488\",\"green\")\n",
    "\n",
    "audi.show()\n",
    "ferrari.show()"
   ]
  }
 ],
 "metadata": {
  "kernelspec": {
   "display_name": "Python 3",
   "language": "python",
   "name": "python3"
  },
  "language_info": {
   "codemirror_mode": {
    "name": "ipython",
    "version": 3
   },
   "file_extension": ".py",
   "mimetype": "text/x-python",
   "name": "python",
   "nbconvert_exporter": "python",
   "pygments_lexer": "ipython3",
   "version": "3.8.8"
  }
 },
 "nbformat": 4,
 "nbformat_minor": 5
}
