{
 "cells": [
  {
   "cell_type": "code",
   "execution_count": 5,
   "id": "d640acea",
   "metadata": {},
   "outputs": [
    {
     "name": "stdout",
     "output_type": "stream",
     "text": [
      "the values of  __name__ is __main__\n"
     ]
    }
   ],
   "source": [
    "def func1():\n",
    "    print(\"the values of  __name__ is \"+ __name__)\n",
    "    \n",
    "if __name__== '__main__':\n",
    "    func1()"
   ]
  }
 ],
 "metadata": {
  "kernelspec": {
   "display_name": "Python 3",
   "language": "python",
   "name": "python3"
  },
  "language_info": {
   "codemirror_mode": {
    "name": "ipython",
    "version": 3
   },
   "file_extension": ".py",
   "mimetype": "text/x-python",
   "name": "python",
   "nbconvert_exporter": "python",
   "pygments_lexer": "ipython3",
   "version": "3.8.8"
  }
 },
 "nbformat": 4,
 "nbformat_minor": 5
}
