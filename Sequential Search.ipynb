{
 "cells": [
  {
   "cell_type": "markdown",
   "id": "72630d30",
   "metadata": {},
   "source": [
    "### Sequential Search"
   ]
  },
  {
   "cell_type": "code",
   "execution_count": 1,
   "id": "9710368a",
   "metadata": {},
   "outputs": [
    {
     "name": "stdout",
     "output_type": "stream",
     "text": [
      "True\n"
     ]
    }
   ],
   "source": [
    "def sequential_search(list_,n):\n",
    "    for i in list_:\n",
    "        if i == n:\n",
    "            break\n",
    "    return True\n",
    "\n",
    "elements = range(0,20)\n",
    "ss = sequential_search(elements,4)\n",
    "print(ss)"
   ]
  },
  {
   "cell_type": "code",
   "execution_count": null,
   "id": "46bcaac3",
   "metadata": {},
   "outputs": [],
   "source": []
  }
 ],
 "metadata": {
  "kernelspec": {
   "display_name": "Python 3",
   "language": "python",
   "name": "python3"
  },
  "language_info": {
   "codemirror_mode": {
    "name": "ipython",
    "version": 3
   },
   "file_extension": ".py",
   "mimetype": "text/x-python",
   "name": "python",
   "nbconvert_exporter": "python",
   "pygments_lexer": "ipython3",
   "version": "3.8.8"
  }
 },
 "nbformat": 4,
 "nbformat_minor": 5
}
