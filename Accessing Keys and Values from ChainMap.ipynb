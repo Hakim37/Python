{
 "cells": [
  {
   "cell_type": "code",
   "execution_count": 1,
   "id": "63bd92f4",
   "metadata": {},
   "outputs": [],
   "source": [
    "# python program to demonstrate\n",
    "# ChainMap"
   ]
  },
  {
   "cell_type": "code",
   "execution_count": 2,
   "id": "66631a39",
   "metadata": {},
   "outputs": [],
   "source": [
    "from collections import ChainMap"
   ]
  },
  {
   "cell_type": "code",
   "execution_count": 3,
   "id": "055f8609",
   "metadata": {},
   "outputs": [],
   "source": [
    "d1 = {'a': 1,'b':2}\n",
    "d2 = {'c':3,'d':4}\n",
    "d3 = {'e':5,'f':6}"
   ]
  },
  {
   "cell_type": "code",
   "execution_count": 4,
   "id": "1797ac0a",
   "metadata": {},
   "outputs": [],
   "source": [
    "# Defining the chainmap\n",
    "c = ChainMap(d1,d2,d3)"
   ]
  },
  {
   "cell_type": "code",
   "execution_count": 5,
   "id": "280f8bad",
   "metadata": {},
   "outputs": [
    {
     "name": "stdout",
     "output_type": "stream",
     "text": [
      "1\n"
     ]
    }
   ],
   "source": [
    "# Accessing Values using key name\n",
    "print(c['a'])"
   ]
  },
  {
   "cell_type": "code",
   "execution_count": 6,
   "id": "efdc7c78",
   "metadata": {},
   "outputs": [
    {
     "name": "stdout",
     "output_type": "stream",
     "text": [
      "ValuesView(ChainMap({'a': 1, 'b': 2}, {'c': 3, 'd': 4}, {'e': 5, 'f': 6}))\n"
     ]
    }
   ],
   "source": [
    "print(c.values())"
   ]
  },
  {
   "cell_type": "code",
   "execution_count": 7,
   "id": "acc263a4",
   "metadata": {},
   "outputs": [
    {
     "name": "stdout",
     "output_type": "stream",
     "text": [
      "KeysView(ChainMap({'a': 1, 'b': 2}, {'c': 3, 'd': 4}, {'e': 5, 'f': 6}))\n"
     ]
    }
   ],
   "source": [
    "# Accessing key using keys()\n",
    "# method \n",
    "print(c.keys())"
   ]
  }
 ],
 "metadata": {
  "kernelspec": {
   "display_name": "Python 3",
   "language": "python",
   "name": "python3"
  },
  "language_info": {
   "codemirror_mode": {
    "name": "ipython",
    "version": 3
   },
   "file_extension": ".py",
   "mimetype": "text/x-python",
   "name": "python",
   "nbconvert_exporter": "python",
   "pygments_lexer": "ipython3",
   "version": "3.8.8"
  }
 },
 "nbformat": 4,
 "nbformat_minor": 5
}
