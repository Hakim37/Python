{
 "cells": [
  {
   "cell_type": "markdown",
   "id": "19915bf1",
   "metadata": {},
   "source": [
    "### reverse a number in Python?"
   ]
  },
  {
   "cell_type": "code",
   "execution_count": null,
   "id": "bb8c717b",
   "metadata": {},
   "outputs": [],
   "source": [
    "n=int(input(\"Enter number: \"))\n",
    "rev=0\n",
    "while(n>0):\n",
    "dig=n%10\n",
    "rev=rev*10+dig\n",
    "n=n//10\n",
    "print(\"The reverse of the number:\",rev)"
   ]
  }
 ],
 "metadata": {
  "kernelspec": {
   "display_name": "Python 3",
   "language": "python",
   "name": "python3"
  },
  "language_info": {
   "codemirror_mode": {
    "name": "ipython",
    "version": 3
   },
   "file_extension": ".py",
   "mimetype": "text/x-python",
   "name": "python",
   "nbconvert_exporter": "python",
   "pygments_lexer": "ipython3",
   "version": "3.8.8"
  }
 },
 "nbformat": 4,
 "nbformat_minor": 5
}
