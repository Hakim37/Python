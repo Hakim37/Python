{
 "cells": [
  {
   "cell_type": "code",
   "execution_count": 16,
   "id": "563b6f98",
   "metadata": {},
   "outputs": [
    {
     "data": {
      "text/plain": [
       "('thu', 'fri')"
      ]
     },
     "execution_count": 16,
     "metadata": {},
     "output_type": "execute_result"
    }
   ],
   "source": [
    "def testgen(index):\n",
    "    weekdays =['sun','mon','tue','wed','thu','fri','sat']\n",
    "    yield weekdays[index]\n",
    "    yield weekdays[index  + 1]\n",
    "    \n",
    "day = testgen(4)\n",
    "next(day),next(day)"
   ]
  }
 ],
 "metadata": {
  "kernelspec": {
   "display_name": "Python 3",
   "language": "python",
   "name": "python3"
  },
  "language_info": {
   "codemirror_mode": {
    "name": "ipython",
    "version": 3
   },
   "file_extension": ".py",
   "mimetype": "text/x-python",
   "name": "python",
   "nbconvert_exporter": "python",
   "pygments_lexer": "ipython3",
   "version": "3.8.8"
  }
 },
 "nbformat": 4,
 "nbformat_minor": 5
}
