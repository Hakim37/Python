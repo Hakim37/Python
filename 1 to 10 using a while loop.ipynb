{
 "cells": [
  {
   "cell_type": "markdown",
   "id": "e935a468",
   "metadata": {},
   "source": [
    "#### Print 1 to 10 Using a while loop"
   ]
  },
  {
   "cell_type": "code",
   "execution_count": 1,
   "id": "054dec10",
   "metadata": {},
   "outputs": [
    {
     "name": "stdout",
     "output_type": "stream",
     "text": [
      "num: 1\n",
      "num: 2\n",
      "num: 3\n",
      "num: 4\n",
      "num: 5\n",
      "num: 6\n",
      "num: 7\n",
      "num: 8\n",
      "num: 9\n",
      "num: 10\n"
     ]
    }
   ],
   "source": [
    "count  = 1\n",
    "while (count < 11):\n",
    "    print('num:',count)\n",
    "    count = count + 1"
   ]
  }
 ],
 "metadata": {
  "kernelspec": {
   "display_name": "Python 3",
   "language": "python",
   "name": "python3"
  },
  "language_info": {
   "codemirror_mode": {
    "name": "ipython",
    "version": 3
   },
   "file_extension": ".py",
   "mimetype": "text/x-python",
   "name": "python",
   "nbconvert_exporter": "python",
   "pygments_lexer": "ipython3",
   "version": "3.8.8"
  }
 },
 "nbformat": 4,
 "nbformat_minor": 5
}
