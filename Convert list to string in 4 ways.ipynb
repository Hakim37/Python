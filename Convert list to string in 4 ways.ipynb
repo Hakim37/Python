{
 "cells": [
  {
   "cell_type": "markdown",
   "id": "2a1a12e0",
   "metadata": {},
   "source": [
    "### how to convert list to string"
   ]
  },
  {
   "cell_type": "code",
   "execution_count": 1,
   "id": "615c0e49",
   "metadata": {},
   "outputs": [
    {
     "data": {
      "text/plain": [
       "'I am hakim Singh'"
      ]
     },
     "execution_count": 1,
     "metadata": {},
     "output_type": "execute_result"
    }
   ],
   "source": [
    "# Use to join fuction list to convert \n",
    "\n",
    "l =['I','am','hakim','Singh']\n",
    "' '.join(l)"
   ]
  },
  {
   "cell_type": "code",
   "execution_count": 2,
   "id": "d2291ee3",
   "metadata": {},
   "outputs": [],
   "source": [
    "list=[1,2,3,4,5,6]"
   ]
  },
  {
   "cell_type": "code",
   "execution_count": 3,
   "id": "ab4b5e26",
   "metadata": {},
   "outputs": [
    {
     "data": {
      "text/plain": [
       "'1 2 3 4 5 6'"
      ]
     },
     "execution_count": 3,
     "metadata": {},
     "output_type": "execute_result"
    }
   ],
   "source": [
    "' '.join(str(e) for e in list)"
   ]
  },
  {
   "cell_type": "markdown",
   "id": "4cb0e4e6",
   "metadata": {},
   "source": [
    "### Traversal of List Function"
   ]
  },
  {
   "cell_type": "code",
   "execution_count": 4,
   "id": "46ed2c2c",
   "metadata": {},
   "outputs": [],
   "source": [
    "list=['how','are','you','$']"
   ]
  },
  {
   "cell_type": "code",
   "execution_count": 5,
   "id": "d4531fc6",
   "metadata": {},
   "outputs": [],
   "source": [
    "mystring= ' '"
   ]
  },
  {
   "cell_type": "code",
   "execution_count": 6,
   "id": "e06eac8a",
   "metadata": {},
   "outputs": [],
   "source": [
    "for x in list:\n",
    "    mystring +=' '+ x"
   ]
  },
  {
   "cell_type": "code",
   "execution_count": 7,
   "id": "d0b8c060",
   "metadata": {},
   "outputs": [
    {
     "name": "stdout",
     "output_type": "stream",
     "text": [
      "  how are you $\n"
     ]
    }
   ],
   "source": [
    "print(mystring)"
   ]
  },
  {
   "cell_type": "markdown",
   "id": "45cec8bf",
   "metadata": {},
   "source": [
    "#### Using map() Function"
   ]
  },
  {
   "cell_type": "code",
   "execution_count": 9,
   "id": "cffedf40",
   "metadata": {},
   "outputs": [],
   "source": [
    "list1 = ['Hello','are','you','#',1,2,3,4]"
   ]
  },
  {
   "cell_type": "code",
   "execution_count": 10,
   "id": "cdf4a139",
   "metadata": {},
   "outputs": [],
   "source": [
    "mystring=' '.join(map(str,list1))"
   ]
  },
  {
   "cell_type": "code",
   "execution_count": 11,
   "id": "a4937cb7",
   "metadata": {},
   "outputs": [
    {
     "data": {
      "text/plain": [
       "'Hello are you # 1 2 3 4'"
      ]
     },
     "execution_count": 11,
     "metadata": {},
     "output_type": "execute_result"
    }
   ],
   "source": [
    "mystring"
   ]
  },
  {
   "cell_type": "markdown",
   "id": "5dd2a14d",
   "metadata": {},
   "source": [
    "#### List Comprehension"
   ]
  },
  {
   "cell_type": "code",
   "execution_count": 12,
   "id": "d8f17e04",
   "metadata": {},
   "outputs": [
    {
     "name": "stdout",
     "output_type": "stream",
     "text": [
      "using list comprehension\n"
     ]
    }
   ],
   "source": [
    "start_list=['using','list','comprehension']\n",
    "\n",
    "string=' '.join(str(item) for item in start_list)\n",
    "print(string)"
   ]
  },
  {
   "cell_type": "code",
   "execution_count": null,
   "id": "48a5e5ca",
   "metadata": {},
   "outputs": [],
   "source": []
  }
 ],
 "metadata": {
  "kernelspec": {
   "display_name": "Python 3",
   "language": "python",
   "name": "python3"
  },
  "language_info": {
   "codemirror_mode": {
    "name": "ipython",
    "version": 3
   },
   "file_extension": ".py",
   "mimetype": "text/x-python",
   "name": "python",
   "nbconvert_exporter": "python",
   "pygments_lexer": "ipython3",
   "version": "3.8.8"
  }
 },
 "nbformat": 4,
 "nbformat_minor": 5
}
