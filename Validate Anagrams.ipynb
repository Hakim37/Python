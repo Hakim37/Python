{
 "cells": [
  {
   "cell_type": "markdown",
   "id": "1e5edd67",
   "metadata": {},
   "source": [
    "### Validate Anagrams"
   ]
  },
  {
   "cell_type": "code",
   "execution_count": 1,
   "id": "cd03ef77",
   "metadata": {},
   "outputs": [
    {
     "name": "stdout",
     "output_type": "stream",
     "text": [
      "True\n",
      "True\n",
      "False\n"
     ]
    }
   ],
   "source": [
    "def anagram(word1,word2):\n",
    "    word1 = word1.lower()\n",
    "    word2 = word2.lower()\n",
    "    return sorted(word1) == sorted(word2)\n",
    "\n",
    "print(anagram(\"cinema\",\"iceman\"))\n",
    "print(anagram(\"cool\",\"loco\"))\n",
    "print(anagram(\"men\",\"women\"))\n"
   ]
  },
  {
   "cell_type": "code",
   "execution_count": null,
   "id": "1640fa72",
   "metadata": {},
   "outputs": [],
   "source": []
  }
 ],
 "metadata": {
  "kernelspec": {
   "display_name": "Python 3",
   "language": "python",
   "name": "python3"
  },
  "language_info": {
   "codemirror_mode": {
    "name": "ipython",
    "version": 3
   },
   "file_extension": ".py",
   "mimetype": "text/x-python",
   "name": "python",
   "nbconvert_exporter": "python",
   "pygments_lexer": "ipython3",
   "version": "3.8.8"
  }
 },
 "nbformat": 4,
 "nbformat_minor": 5
}
