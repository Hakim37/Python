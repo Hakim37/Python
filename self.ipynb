{
 "cells": [
  {
   "cell_type": "code",
   "execution_count": 1,
   "id": "3de3d545",
   "metadata": {},
   "outputs": [
    {
     "name": "stdout",
     "output_type": "stream",
     "text": [
      "Address of self = 79763872\n",
      "Address of class object = 79763872\n"
     ]
    }
   ],
   "source": [
    "# it is clearly seen that self and obj is referring to same object\n",
    "class check:\n",
    "    def __init__(self):\n",
    "        print(\"Address of self =\",id(self))\n",
    "        \n",
    "obj = check()\n",
    "print(\"Address of class object =\",id(obj))\n"
   ]
  }
 ],
 "metadata": {
  "kernelspec": {
   "display_name": "Python 3",
   "language": "python",
   "name": "python3"
  },
  "language_info": {
   "codemirror_mode": {
    "name": "ipython",
    "version": 3
   },
   "file_extension": ".py",
   "mimetype": "text/x-python",
   "name": "python",
   "nbconvert_exporter": "python",
   "pygments_lexer": "ipython3",
   "version": "3.8.8"
  }
 },
 "nbformat": 4,
 "nbformat_minor": 5
}
