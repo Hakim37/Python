{
 "cells": [
  {
   "cell_type": "markdown",
   "id": "89a0274b",
   "metadata": {},
   "source": [
    "### List to String"
   ]
  },
  {
   "cell_type": "code",
   "execution_count": 7,
   "id": "91bd52bc",
   "metadata": {},
   "outputs": [
    {
     "name": "stdout",
     "output_type": "stream",
     "text": [
      "sun mon tue wed thu fri sat\n"
     ]
    }
   ],
   "source": [
    "weekdays = ['sun','mon','tue','wed','thu','fri','sat']\n",
    "listtAsString =' '.join(weekdays)\n",
    "print(listtAsString)"
   ]
  },
  {
   "cell_type": "markdown",
   "id": "1534ef09",
   "metadata": {},
   "source": [
    "### List to tuple"
   ]
  },
  {
   "cell_type": "code",
   "execution_count": 1,
   "id": "9fa37c5e",
   "metadata": {},
   "outputs": [
    {
     "name": "stdout",
     "output_type": "stream",
     "text": [
      "('sun', 'mon', 'tue', 'wed', 'thu', 'fri', 'sat')\n"
     ]
    }
   ],
   "source": [
    "weekdays = ['sun','mon','tue','wed','thu','fri','sat']\n",
    "\n",
    "listAsTuple = tuple(weekdays)\n",
    "print(listAsTuple)"
   ]
  }
 ],
 "metadata": {
  "kernelspec": {
   "display_name": "Python 3",
   "language": "python",
   "name": "python3"
  },
  "language_info": {
   "codemirror_mode": {
    "name": "ipython",
    "version": 3
   },
   "file_extension": ".py",
   "mimetype": "text/x-python",
   "name": "python",
   "nbconvert_exporter": "python",
   "pygments_lexer": "ipython3",
   "version": "3.8.8"
  }
 },
 "nbformat": 4,
 "nbformat_minor": 5
}
