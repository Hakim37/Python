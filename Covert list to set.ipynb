{
 "cells": [
  {
   "cell_type": "markdown",
   "id": "6ead1684",
   "metadata": {},
   "source": [
    "### List to Set"
   ]
  },
  {
   "cell_type": "code",
   "execution_count": 9,
   "id": "3dd99ae4",
   "metadata": {},
   "outputs": [
    {
     "name": "stdout",
     "output_type": "stream",
     "text": [
      "['sun', 'mon', 'mon', 'tue', 'wed', 'thu', 'fri', 'sat']\n"
     ]
    }
   ],
   "source": [
    "weekdays = ['sun','mon','mon','tue','wed','thu','fri','sat']\n",
    "listAsSet=set(weekdays)\n",
    "print(weekdays)"
   ]
  },
  {
   "cell_type": "markdown",
   "id": "1f890de9",
   "metadata": {},
   "source": [
    "### List to String"
   ]
  },
  {
   "cell_type": "code",
   "execution_count": 7,
   "id": "b47736b2",
   "metadata": {},
   "outputs": [
    {
     "name": "stdout",
     "output_type": "stream",
     "text": [
      "sun mon tue wed thu fri sat\n"
     ]
    }
   ],
   "source": [
    "weekdays = ['sun','mon','tue','wed','thu','fri','sat']\n",
    "listtAsString =' '.join(weekdays)\n",
    "print(listtAsString)"
   ]
  },
  {
   "cell_type": "markdown",
   "id": "0b6a2ed2",
   "metadata": {},
   "source": [
    "### List to tuple"
   ]
  },
  {
   "cell_type": "code",
   "execution_count": 1,
   "id": "b27699c6",
   "metadata": {},
   "outputs": [
    {
     "name": "stdout",
     "output_type": "stream",
     "text": [
      "('sun', 'mon', 'tue', 'wed', 'thu', 'fri', 'sat')\n"
     ]
    }
   ],
   "source": [
    "weekdays = ['sun','mon','tue','wed','thu','fri','sat']\n",
    "\n",
    "listAsTuple = tuple(weekdays)\n",
    "print(listAsTuple)"
   ]
  }
 ],
 "metadata": {
  "kernelspec": {
   "display_name": "Python 3",
   "language": "python",
   "name": "python3"
  },
  "language_info": {
   "codemirror_mode": {
    "name": "ipython",
    "version": 3
   },
   "file_extension": ".py",
   "mimetype": "text/x-python",
   "name": "python",
   "nbconvert_exporter": "python",
   "pygments_lexer": "ipython3",
   "version": "3.8.8"
  }
 },
 "nbformat": 4,
 "nbformat_minor": 5
}
