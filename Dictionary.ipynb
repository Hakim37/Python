{
 "cells": [
  {
   "cell_type": "markdown",
   "id": "64500198",
   "metadata": {},
   "source": [
    "## dictinary"
   ]
  },
  {
   "cell_type": "code",
   "execution_count": 1,
   "id": "6db2ea6b",
   "metadata": {},
   "outputs": [
    {
     "name": "stdout",
     "output_type": "stream",
     "text": [
      "This is one\n",
      "This is two\n",
      "{'name': 'swati', 'age': 10, 'dept': 'software'}\n",
      "dict_keys(['name', 'age', 'dept'])\n",
      "dict_values(['swati', 10, 'software'])\n"
     ]
    }
   ],
   "source": [
    "dict = {}\n",
    "dict['one'] = \"This is one\"\n",
    "dict[2] = \"This is two\"\n",
    "\n",
    "keyVal = {'name': 'swati','age':10,'dept':'software'}\n",
    "\n",
    "print(dict['one']) # Prints values for 'one' key\n",
    "print(dict[2]) # Prints value for 2 key\n",
    "print(keyVal) # Prints complete dictionary\n",
    "print(keyVal.keys()) # Prints all the keys\n",
    "print(keyVal.values()) # Prints all the values"
   ]
  },
  {
   "cell_type": "code",
   "execution_count": null,
   "id": "a9ca02eb",
   "metadata": {},
   "outputs": [],
   "source": []
  }
 ],
 "metadata": {
  "kernelspec": {
   "display_name": "Python 3",
   "language": "python",
   "name": "python3"
  },
  "language_info": {
   "codemirror_mode": {
    "name": "ipython",
    "version": 3
   },
   "file_extension": ".py",
   "mimetype": "text/x-python",
   "name": "python",
   "nbconvert_exporter": "python",
   "pygments_lexer": "ipython3",
   "version": "3.8.8"
  }
 },
 "nbformat": 4,
 "nbformat_minor": 5
}
