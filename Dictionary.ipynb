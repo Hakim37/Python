{
 "cells": [
  {
   "cell_type": "code",
   "execution_count": 1,
   "id": "cf3db58a",
   "metadata": {},
   "outputs": [],
   "source": [
    "dict = {}\n",
    "dict['one'] = \"This is one\"\n",
    "dict[2] = \"This is two\""
   ]
  },
  {
   "cell_type": "code",
   "execution_count": 2,
   "id": "6144743f",
   "metadata": {},
   "outputs": [
    {
     "name": "stdout",
     "output_type": "stream",
     "text": [
      "This is one\n",
      "This is two\n",
      "{'name': 'swati', 'age': 10, 'dept': 'software'}\n",
      "dict_keys(['name', 'age', 'dept'])\n",
      "dict_values(['swati', 10, 'software'])\n"
     ]
    }
   ],
   "source": [
    "keyVal ={'name':'swati','age':10,'dept' : 'software'}\n",
    "\n",
    "print(dict['one']) # Prints values for 'one' key\n",
    "print(dict[2]) # prints values for 2 key\n",
    "print(keyVal) # prints complete dictionary\n",
    "print(keyVal.keys()) # prints all the keys\n",
    "print(keyVal.values()) # prints all the values"
   ]
  },
  {
   "cell_type": "code",
   "execution_count": null,
   "id": "12080b4e",
   "metadata": {},
   "outputs": [],
   "source": []
  },
  {
   "cell_type": "code",
   "execution_count": null,
   "id": "e34c0f13",
   "metadata": {},
   "outputs": [],
   "source": []
  }
 ],
 "metadata": {
  "kernelspec": {
   "display_name": "Python 3",
   "language": "python",
   "name": "python3"
  },
  "language_info": {
   "codemirror_mode": {
    "name": "ipython",
    "version": 3
   },
   "file_extension": ".py",
   "mimetype": "text/x-python",
   "name": "python",
   "nbconvert_exporter": "python",
   "pygments_lexer": "ipython3",
   "version": "3.8.8"
  }
 },
 "nbformat": 4,
 "nbformat_minor": 5
}
