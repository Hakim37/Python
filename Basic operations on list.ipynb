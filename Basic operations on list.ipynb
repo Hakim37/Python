{
 "cells": [
  {
   "cell_type": "markdown",
   "id": "60e24ffb",
   "metadata": {},
   "source": [
    "### create list"
   ]
  },
  {
   "cell_type": "code",
   "execution_count": 6,
   "id": "5615bd3a",
   "metadata": {},
   "outputs": [],
   "source": [
    "list1 = ['Statistics','Programming',2016,2017,2018];\n",
    "list2 =['a','b',1,2,3,4,5,6,7];"
   ]
  },
  {
   "cell_type": "code",
   "execution_count": 8,
   "id": "0732aea3",
   "metadata": {},
   "outputs": [
    {
     "data": {
      "text/plain": [
       "['Statistics', 'Programming', 2016, 2017, 2018, 'a', 'b', 1, 2, 3, 4, 5, 6, 7]"
      ]
     },
     "execution_count": 8,
     "metadata": {},
     "output_type": "execute_result"
    }
   ],
   "source": [
    "df=list1+list2\n",
    "df"
   ]
  },
  {
   "cell_type": "code",
   "execution_count": 3,
   "id": "9a87b0ad",
   "metadata": {},
   "outputs": [],
   "source": [
    "list =[1,2,3,4,5,6,7]"
   ]
  },
  {
   "cell_type": "code",
   "execution_count": 4,
   "id": "1960ab05",
   "metadata": {},
   "outputs": [
    {
     "data": {
      "text/plain": [
       "7"
      ]
     },
     "execution_count": 4,
     "metadata": {},
     "output_type": "execute_result"
    }
   ],
   "source": [
    "len(list)"
   ]
  },
  {
   "cell_type": "code",
   "execution_count": 5,
   "id": "cd84fdff",
   "metadata": {},
   "outputs": [
    {
     "name": "stdout",
     "output_type": "stream",
     "text": [
      "Concatenation: [1, 2, 3, 4, 5, 6]\n"
     ]
    }
   ],
   "source": [
    "print('Concatenation:',[1,2,3]+[4,5,6])"
   ]
  },
  {
   "cell_type": "code",
   "execution_count": 9,
   "id": "9bf5b970",
   "metadata": {},
   "outputs": [
    {
     "name": "stdout",
     "output_type": "stream",
     "text": [
      "Repetition: ['Hello', 'Hello', 'Hello', 'Hello']\n"
     ]
    }
   ],
   "source": [
    "print('Repetition:',['Hello']*4)"
   ]
  },
  {
   "cell_type": "code",
   "execution_count": 12,
   "id": "2325c71a",
   "metadata": {},
   "outputs": [
    {
     "name": "stdout",
     "output_type": "stream",
     "text": [
      "Membership: True\n"
     ]
    }
   ],
   "source": [
    "print('Membership:',3 in [1,2,3])"
   ]
  },
  {
   "cell_type": "code",
   "execution_count": null,
   "id": "13c98bed",
   "metadata": {},
   "outputs": [],
   "source": [
    "print('Iteratii')"
   ]
  }
 ],
 "metadata": {
  "kernelspec": {
   "display_name": "Python 3",
   "language": "python",
   "name": "python3"
  },
  "language_info": {
   "codemirror_mode": {
    "name": "ipython",
    "version": 3
   },
   "file_extension": ".py",
   "mimetype": "text/x-python",
   "name": "python",
   "nbconvert_exporter": "python",
   "pygments_lexer": "ipython3",
   "version": "3.8.8"
  }
 },
 "nbformat": 4,
 "nbformat_minor": 5
}
