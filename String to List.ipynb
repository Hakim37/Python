{
 "cells": [
  {
   "cell_type": "markdown",
   "id": "6dcc66c7",
   "metadata": {},
   "source": [
    "### Converting string list in python"
   ]
  },
  {
   "cell_type": "code",
   "execution_count": 14,
   "id": "f6b6916c",
   "metadata": {},
   "outputs": [
    {
     "data": {
      "text/plain": [
       "['hakim', 'singh', 'raj', 'poot', 'from', 'mumbai']"
      ]
     },
     "execution_count": 14,
     "metadata": {},
     "output_type": "execute_result"
    }
   ],
   "source": [
    "my=('hakim singh raj poot from mumbai')\n",
    "my1=my.split()\n",
    "my1"
   ]
  },
  {
   "cell_type": "code",
   "execution_count": 17,
   "id": "3602a54e",
   "metadata": {},
   "outputs": [
    {
     "data": {
      "text/plain": [
       "['hakim', 'singh', 'rajpoot', 'frm', 'mumbai']"
      ]
     },
     "execution_count": 17,
     "metadata": {},
     "output_type": "execute_result"
    }
   ],
   "source": [
    "m1=('hakim-singh-rajpoot-frm-mumbai')\n",
    "m1.split('-')"
   ]
  },
  {
   "cell_type": "code",
   "execution_count": 21,
   "id": "ba6d5509",
   "metadata": {},
   "outputs": [
    {
     "data": {
      "text/plain": [
       "'hakim Raja Rama room'"
      ]
     },
     "execution_count": 21,
     "metadata": {},
     "output_type": "execute_result"
    }
   ],
   "source": [
    "l=['hakim','Raja','Rama','room']\n",
    "\n",
    "l1=' '.join(l)"
   ]
  },
  {
   "cell_type": "code",
   "execution_count": 23,
   "id": "f2c88d8c",
   "metadata": {},
   "outputs": [
    {
     "data": {
      "text/plain": [
       "'hakim Raja Rama room'"
      ]
     },
     "execution_count": 23,
     "metadata": {},
     "output_type": "execute_result"
    }
   ],
   "source": [
    "l2=' '.join(map(str,l))\n",
    "l2"
   ]
  },
  {
   "cell_type": "code",
   "execution_count": 29,
   "id": "a18492f6",
   "metadata": {},
   "outputs": [
    {
     "data": {
      "text/plain": [
       "'1 2 3 4'"
      ]
     },
     "execution_count": 29,
     "metadata": {},
     "output_type": "execute_result"
    }
   ],
   "source": [
    "h=['1','2','3','4']\n",
    "\n",
    "h1=' '.join(str(e) for e in h )\n",
    "h1"
   ]
  },
  {
   "cell_type": "markdown",
   "id": "8430463e",
   "metadata": {},
   "source": [
    "### Convert string to list in python"
   ]
  },
  {
   "cell_type": "code",
   "execution_count": 39,
   "id": "1f25e97a",
   "metadata": {},
   "outputs": [
    {
     "data": {
      "text/plain": [
       "['H',\n",
       " 'i',\n",
       " 'r',\n",
       " 'e',\n",
       " ' ',\n",
       " 'f',\n",
       " 'r',\n",
       " 'e',\n",
       " 'e',\n",
       " 'l',\n",
       " 'a',\n",
       " 'n',\n",
       " 'c',\n",
       " 'e',\n",
       " ' ',\n",
       " 'd',\n",
       " 'e',\n",
       " 'v',\n",
       " 'e',\n",
       " 'l',\n",
       " 'o',\n",
       " 'p',\n",
       " 'e',\n",
       " 'r',\n",
       " 's']"
      ]
     },
     "execution_count": 39,
     "metadata": {},
     "output_type": "execute_result"
    }
   ],
   "source": [
    "s='Hire freelance developers'\n",
    "l=list(s.strip(\" \"))\n",
    "l"
   ]
  },
  {
   "cell_type": "code",
   "execution_count": null,
   "id": "cc3f78fd",
   "metadata": {},
   "outputs": [],
   "source": []
  }
 ],
 "metadata": {
  "kernelspec": {
   "display_name": "Python 3",
   "language": "python",
   "name": "python3"
  },
  "language_info": {
   "codemirror_mode": {
    "name": "ipython",
    "version": 3
   },
   "file_extension": ".py",
   "mimetype": "text/x-python",
   "name": "python",
   "nbconvert_exporter": "python",
   "pygments_lexer": "ipython3",
   "version": "3.8.8"
  }
 },
 "nbformat": 4,
 "nbformat_minor": 5
}
