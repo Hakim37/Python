{
 "cells": [
  {
   "cell_type": "code",
   "execution_count": 1,
   "id": "6ee8b94f",
   "metadata": {},
   "outputs": [
    {
     "name": "stdout",
     "output_type": "stream",
     "text": [
      "A \r\n",
      "B \r\n",
      "C \r\n",
      "D \r\n",
      "E \r\n",
      "F \r\n",
      "G \r\n",
      "H \r\n",
      "I \r\n",
      "J \r\n",
      "K \r\n",
      "L \r\n",
      "M \r\n",
      "N \r\n",
      "O \r\n",
      "P \r\n",
      "Q \r\n",
      "R \r\n",
      "S \r\n",
      "T \r\n",
      "U \r\n",
      "V \r\n",
      "W \r\n",
      "X \r\n",
      "Y \r\n"
     ]
    }
   ],
   "source": [
    "num = 65\n",
    "\n",
    "for i in range(0, 5):\n",
    "    for j in range(0, 5):\n",
    "        ch = chr(num)\n",
    "        # printing char values\n",
    "        print(ch, end=\" \")\n",
    "        num = num + 1\n",
    "         # ending line after each row \n",
    "        print(\"\\r\")"
   ]
  }
 ],
 "metadata": {
  "kernelspec": {
   "display_name": "Python 3",
   "language": "python",
   "name": "python3"
  },
  "language_info": {
   "codemirror_mode": {
    "name": "ipython",
    "version": 3
   },
   "file_extension": ".py",
   "mimetype": "text/x-python",
   "name": "python",
   "nbconvert_exporter": "python",
   "pygments_lexer": "ipython3",
   "version": "3.8.8"
  }
 },
 "nbformat": 4,
 "nbformat_minor": 5
}
