{
 "cells": [
  {
   "cell_type": "code",
   "execution_count": 1,
   "metadata": {},
   "outputs": [],
   "source": [
    "#variable Assignments\n",
    "a=10\n",
    "b=5.5\n",
    "c=\"ML\"\n",
    "print(a,b,c)"
   ]
  },
  {
   "cell_type": "code",
   "execution_count": 3,
   "metadata": {},
   "outputs": [
    {
     "name": "stdout",
     "output_type": "stream",
     "text": [
      "20 5.5 hakim\n"
     ]
    }
   ],
   "source": [
    "#Multiple Assignment\n",
    "a,b,c=20,5.5,\"hakim\"\n",
    "print(a,b,c)"
   ]
  },
  {
   "cell_type": "code",
   "execution_count": 5,
   "metadata": {},
   "outputs": [
    {
     "name": "stdout",
     "output_type": "stream",
     "text": [
      "ha ha ha\n"
     ]
    }
   ],
   "source": [
    "a=b=c=\"ha\"\n",
    "print(a,b,c)"
   ]
  },
  {
   "cell_type": "code",
   "execution_count": 6,
   "metadata": {},
   "outputs": [
    {
     "name": "stdout",
     "output_type": "stream",
     "text": [
      "140711228969824\n"
     ]
    }
   ],
   "source": [
    "#storage Location\n",
    "x=2\n",
    "print(id(x))"
   ]
  },
  {
   "cell_type": "code",
   "execution_count": 7,
   "metadata": {},
   "outputs": [
    {
     "name": "stdout",
     "output_type": "stream",
     "text": [
      "140711228969824\n"
     ]
    }
   ],
   "source": [
    "#storage Location\n",
    "y=2\n",
    "print(id(y))"
   ]
  },
  {
   "cell_type": "code",
   "execution_count": 9,
   "metadata": {},
   "outputs": [
    {
     "name": "stdout",
     "output_type": "stream",
     "text": [
      "10 is of type <class 'int'>\n"
     ]
    }
   ],
   "source": [
    "#Data type\n",
    "a=10\n",
    "print(a,\"is of type\",type(a))"
   ]
  },
  {
   "cell_type": "code",
   "execution_count": 12,
   "metadata": {},
   "outputs": [
    {
     "name": "stdout",
     "output_type": "stream",
     "text": [
      "5.6 is of type <class 'float'>\n"
     ]
    }
   ],
   "source": [
    "b=5.6\n",
    "\n",
    "print(b,\"is of type\",type(b))"
   ]
  },
  {
   "cell_type": "code",
   "execution_count": 13,
   "metadata": {},
   "outputs": [
    {
     "name": "stdout",
     "output_type": "stream",
     "text": [
      "(3+2j) is of type <class 'complex'>\n"
     ]
    }
   ],
   "source": [
    "c=3+2j\n",
    "print(c,\"is of type\",type(c))"
   ]
  },
  {
   "cell_type": "code",
   "execution_count": 14,
   "metadata": {},
   "outputs": [
    {
     "name": "stdout",
     "output_type": "stream",
     "text": [
      "True is of type <class 'bool'>\n"
     ]
    }
   ],
   "source": [
    "a=True\n",
    "print(a,\"is of type\",type(a))"
   ]
  },
  {
   "cell_type": "code",
   "execution_count": 24,
   "metadata": {},
   "outputs": [
    {
     "name": "stdout",
     "output_type": "stream",
     "text": [
      "<class 'str'>\n"
     ]
    }
   ],
   "source": [
    "s='this is hakim'\n",
    "print(type(s))"
   ]
  },
  {
   "cell_type": "code",
   "execution_count": 40,
   "metadata": {},
   "outputs": [
    {
     "name": "stdout",
     "output_type": "stream",
     "text": [
      "this is online AI couse\n",
      "<class 'str'>\n",
      "s\n",
      "u\n",
      "e\n"
     ]
    },
    {
     "data": {
      "text/plain": [
       "'is '"
      ]
     },
     "execution_count": 40,
     "metadata": {},
     "output_type": "execute_result"
    }
   ],
   "source": [
    "#String \n",
    "v ='this is online AI couse'\n",
    "print(v)\n",
    "print(type(v))\n",
    "print(v[6])\n",
    "print(v[-3])\n",
    "v[5:]\n",
    "print(v[len(v)-1])\n",
    "v[5:8]"
   ]
  },
  {
   "cell_type": "code",
   "execution_count": 44,
   "metadata": {},
   "outputs": [
    {
     "name": "stdout",
     "output_type": "stream",
     "text": [
      "Hello\n",
      "10\n"
     ]
    },
    {
     "data": {
      "text/plain": [
       "20.3"
      ]
     },
     "execution_count": 44,
     "metadata": {},
     "output_type": "execute_result"
    }
   ],
   "source": [
    "#python list\n",
    "a=[10,20.3,\"Hello\"]\n",
    "print(a[2])\n",
    "print(a[0])\n",
    "a[1]\n",
    "a[]"
   ]
  },
  {
   "cell_type": "code",
   "execution_count": 5,
   "metadata": {},
   "outputs": [
    {
     "name": "stdout",
     "output_type": "stream",
     "text": [
      "['False', 'None', 'True', 'and', 'as', 'assert', 'async', 'await', 'break', 'class', 'continue', 'def', 'del', 'elif', 'else', 'except', 'finally', 'for', 'from', 'global', 'if', 'import', 'in', 'is', 'lambda', 'nonlocal', 'not', 'or', 'pass', 'raise', 'return', 'try', 'while', 'with', 'yield']\n",
      "Total number of keywords 35\n"
     ]
    }
   ],
   "source": [
    "#Geting all keywords in python \n",
    "import keyword\n",
    "print(keyword.kwlist)\n",
    "print(\"Total number of keywords\",len(keyword.kwlist))"
   ]
  }
 ],
 "metadata": {
  "kernelspec": {
   "display_name": "Python 3",
   "language": "python",
   "name": "python3"
  },
  "language_info": {
   "codemirror_mode": {
    "name": "ipython",
    "version": 3
   },
   "file_extension": ".py",
   "mimetype": "text/x-python",
   "name": "python",
   "nbconvert_exporter": "python",
   "pygments_lexer": "ipython3",
   "version": "3.7.3"
  }
 },
 "nbformat": 4,
 "nbformat_minor": 2
}
