{
 "cells": [
  {
   "cell_type": "code",
   "execution_count": 1,
   "id": "70800733",
   "metadata": {},
   "outputs": [
    {
     "name": "stdout",
     "output_type": "stream",
     "text": [
      "dlroW wolleh\n"
     ]
    }
   ],
   "source": [
    "t = \"hellow World\"[::-1]\n",
    "print(t)"
   ]
  },
  {
   "cell_type": "markdown",
   "id": "18dfcb73",
   "metadata": {},
   "source": [
    "### Create a Funtion"
   ]
  },
  {
   "cell_type": "code",
   "execution_count": 7,
   "id": "948428b8",
   "metadata": {},
   "outputs": [
    {
     "name": "stdout",
     "output_type": "stream",
     "text": [
      "skool txet siht woh rednow I\n"
     ]
    }
   ],
   "source": [
    "def my_fuction(x):\n",
    "    return x[::-1]\n",
    "mytext = my_fuction(\"I wonder how this text looks\")\n",
    "print(mytext)"
   ]
  }
 ],
 "metadata": {
  "kernelspec": {
   "display_name": "Python 3",
   "language": "python",
   "name": "python3"
  },
  "language_info": {
   "codemirror_mode": {
    "name": "ipython",
    "version": 3
   },
   "file_extension": ".py",
   "mimetype": "text/x-python",
   "name": "python",
   "nbconvert_exporter": "python",
   "pygments_lexer": "ipython3",
   "version": "3.8.8"
  }
 },
 "nbformat": 4,
 "nbformat_minor": 5
}
