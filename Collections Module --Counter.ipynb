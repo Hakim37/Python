{
 "cells": [
  {
   "cell_type": "code",
   "execution_count": 1,
   "id": "886369c3",
   "metadata": {},
   "outputs": [
    {
     "name": "stdout",
     "output_type": "stream",
     "text": [
      "Counter({'B': 5, 'A': 3, 'C': 2})\n",
      "Counter({'B': 5, 'A': 3, 'C': 2})\n",
      "Counter({'B': 5, 'A': 3, 'C': 2})\n"
     ]
    }
   ],
   "source": [
    "# python program to show differnt ways to create counter\n",
    "from collections import Counter\n",
    "\n",
    "# with sequence of iterms\n",
    "print(Counter(['B','B','A','B','C','A','B','B','A','C']))\n",
    "\n",
    "# with dictionary\n",
    "print(Counter({'A':3,'B':5,'C':2}))\n",
    "\n",
    "# with keywords args\n",
    "print(Counter(A=3,B=5,C=2))"
   ]
  }
 ],
 "metadata": {
  "kernelspec": {
   "display_name": "Python 3",
   "language": "python",
   "name": "python3"
  },
  "language_info": {
   "codemirror_mode": {
    "name": "ipython",
    "version": 3
   },
   "file_extension": ".py",
   "mimetype": "text/x-python",
   "name": "python",
   "nbconvert_exporter": "python",
   "pygments_lexer": "ipython3",
   "version": "3.8.8"
  }
 },
 "nbformat": 4,
 "nbformat_minor": 5
}
